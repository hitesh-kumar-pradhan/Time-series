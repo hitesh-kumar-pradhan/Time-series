{
 "cells": [
  {
   "cell_type": "code",
   "execution_count": 1,
   "id": "c2790005",
   "metadata": {},
   "outputs": [],
   "source": [
    "import pandas as pd  # for data wrangling purpose\n",
    "import numpy as np   # Basic computation library\n",
    "import seaborn as sns # For Visualization\n",
    "import matplotlib.pyplot as plt  # ploting package\n",
    "%matplotlib inline\n",
    "import warnings  # Filtering warnings\n",
    "warnings.filterwarnings('ignore')"
   ]
  },
  {
   "cell_type": "code",
   "execution_count": 2,
   "id": "b07fce5f",
   "metadata": {},
   "outputs": [],
   "source": [
    "# Importing Random Price dataset csv file using pandas\n",
    "df = pd.read_csv('Random Price Dataset.csv')"
   ]
  },
  {
   "cell_type": "code",
   "execution_count": 3,
   "id": "6a0dd157",
   "metadata": {},
   "outputs": [
    {
     "data": {
      "text/html": [
       "<div>\n",
       "<style scoped>\n",
       "    .dataframe tbody tr th:only-of-type {\n",
       "        vertical-align: middle;\n",
       "    }\n",
       "\n",
       "    .dataframe tbody tr th {\n",
       "        vertical-align: top;\n",
       "    }\n",
       "\n",
       "    .dataframe thead th {\n",
       "        text-align: right;\n",
       "    }\n",
       "</style>\n",
       "<table border=\"1\" class=\"dataframe\">\n",
       "  <thead>\n",
       "    <tr style=\"text-align: right;\">\n",
       "      <th></th>\n",
       "      <th>Date</th>\n",
       "      <th>Domestic Market (Contract) Blow Molding, Low</th>\n",
       "      <th>Spot/Export Blow Molding</th>\n",
       "      <th>Spot, Domestic</th>\n",
       "      <th>WTISPLC</th>\n",
       "      <th>MCOILBRENTEU</th>\n",
       "      <th>GASREGM</th>\n",
       "      <th>IMPCH</th>\n",
       "      <th>EXPCH</th>\n",
       "      <th>PRUBBUSDM</th>\n",
       "      <th>...</th>\n",
       "      <th>Russia_import</th>\n",
       "      <th>South_Africa_import</th>\n",
       "      <th>Turkey_import</th>\n",
       "      <th>Brazil_import</th>\n",
       "      <th>France_import</th>\n",
       "      <th>Germeny_import</th>\n",
       "      <th>United Kingdome_import</th>\n",
       "      <th>China_import</th>\n",
       "      <th>Japan_import</th>\n",
       "      <th>South_korea_import</th>\n",
       "    </tr>\n",
       "  </thead>\n",
       "  <tbody>\n",
       "    <tr>\n",
       "      <th>0</th>\n",
       "      <td>01/01/2000</td>\n",
       "      <td>41</td>\n",
       "      <td>NaN</td>\n",
       "      <td>NaN</td>\n",
       "      <td>27.18</td>\n",
       "      <td>25.51</td>\n",
       "      <td>1.289</td>\n",
       "      <td>6902.1</td>\n",
       "      <td>863.1</td>\n",
       "      <td>29.207387</td>\n",
       "      <td>...</td>\n",
       "      <td>NaN</td>\n",
       "      <td>NaN</td>\n",
       "      <td>6,833,222.00</td>\n",
       "      <td>2,649,293.00</td>\n",
       "      <td>35,239,920.00</td>\n",
       "      <td>NaN</td>\n",
       "      <td>NaN</td>\n",
       "      <td>NaN</td>\n",
       "      <td>NaN</td>\n",
       "      <td>NaN</td>\n",
       "    </tr>\n",
       "    <tr>\n",
       "      <th>1</th>\n",
       "      <td>01/02/2000</td>\n",
       "      <td>41</td>\n",
       "      <td>NaN</td>\n",
       "      <td>NaN</td>\n",
       "      <td>29.35</td>\n",
       "      <td>27.78</td>\n",
       "      <td>1.377</td>\n",
       "      <td>6584.4</td>\n",
       "      <td>972.7</td>\n",
       "      <td>33.391099</td>\n",
       "      <td>...</td>\n",
       "      <td>NaN</td>\n",
       "      <td>NaN</td>\n",
       "      <td>5,647,987.00</td>\n",
       "      <td>2,787,667.00</td>\n",
       "      <td>36,716,752.00</td>\n",
       "      <td>NaN</td>\n",
       "      <td>NaN</td>\n",
       "      <td>NaN</td>\n",
       "      <td>NaN</td>\n",
       "      <td>NaN</td>\n",
       "    </tr>\n",
       "    <tr>\n",
       "      <th>2</th>\n",
       "      <td>01/03/2000</td>\n",
       "      <td>45</td>\n",
       "      <td>NaN</td>\n",
       "      <td>NaN</td>\n",
       "      <td>29.89</td>\n",
       "      <td>27.49</td>\n",
       "      <td>1.516</td>\n",
       "      <td>6424.1</td>\n",
       "      <td>1330.5</td>\n",
       "      <td>30.941913</td>\n",
       "      <td>...</td>\n",
       "      <td>NaN</td>\n",
       "      <td>NaN</td>\n",
       "      <td>6,721,125.00</td>\n",
       "      <td>4,692,701.00</td>\n",
       "      <td>45,144,561.00</td>\n",
       "      <td>NaN</td>\n",
       "      <td>NaN</td>\n",
       "      <td>NaN</td>\n",
       "      <td>NaN</td>\n",
       "      <td>NaN</td>\n",
       "    </tr>\n",
       "    <tr>\n",
       "      <th>3</th>\n",
       "      <td>01/04/2000</td>\n",
       "      <td>47</td>\n",
       "      <td>NaN</td>\n",
       "      <td>NaN</td>\n",
       "      <td>25.74</td>\n",
       "      <td>22.76</td>\n",
       "      <td>1.465</td>\n",
       "      <td>7070.5</td>\n",
       "      <td>1227.5</td>\n",
       "      <td>31.930148</td>\n",
       "      <td>...</td>\n",
       "      <td>NaN</td>\n",
       "      <td>NaN</td>\n",
       "      <td>7,169,182.00</td>\n",
       "      <td>2,565,068.00</td>\n",
       "      <td>32,240,349.00</td>\n",
       "      <td>NaN</td>\n",
       "      <td>NaN</td>\n",
       "      <td>NaN</td>\n",
       "      <td>NaN</td>\n",
       "      <td>NaN</td>\n",
       "    </tr>\n",
       "    <tr>\n",
       "      <th>4</th>\n",
       "      <td>01/05/2000</td>\n",
       "      <td>47</td>\n",
       "      <td>NaN</td>\n",
       "      <td>NaN</td>\n",
       "      <td>28.78</td>\n",
       "      <td>27.74</td>\n",
       "      <td>1.487</td>\n",
       "      <td>7850.2</td>\n",
       "      <td>1526.3</td>\n",
       "      <td>31.201702</td>\n",
       "      <td>...</td>\n",
       "      <td>NaN</td>\n",
       "      <td>NaN</td>\n",
       "      <td>10,466,333.00</td>\n",
       "      <td>4,671,325.00</td>\n",
       "      <td>29,351,633.00</td>\n",
       "      <td>NaN</td>\n",
       "      <td>NaN</td>\n",
       "      <td>NaN</td>\n",
       "      <td>NaN</td>\n",
       "      <td>NaN</td>\n",
       "    </tr>\n",
       "  </tbody>\n",
       "</table>\n",
       "<p>5 rows × 50 columns</p>\n",
       "</div>"
      ],
      "text/plain": [
       "         Date  Domestic Market (Contract) Blow Molding, Low  \\\n",
       "0  01/01/2000                                            41   \n",
       "1  01/02/2000                                            41   \n",
       "2  01/03/2000                                            45   \n",
       "3  01/04/2000                                            47   \n",
       "4  01/05/2000                                            47   \n",
       "\n",
       "   Spot/Export Blow Molding  Spot, Domestic  WTISPLC  MCOILBRENTEU  GASREGM  \\\n",
       "0                       NaN             NaN    27.18         25.51    1.289   \n",
       "1                       NaN             NaN    29.35         27.78    1.377   \n",
       "2                       NaN             NaN    29.89         27.49    1.516   \n",
       "3                       NaN             NaN    25.74         22.76    1.465   \n",
       "4                       NaN             NaN    28.78         27.74    1.487   \n",
       "\n",
       "    IMPCH   EXPCH  PRUBBUSDM  ...  Russia_import  South_Africa_import  \\\n",
       "0  6902.1   863.1  29.207387  ...            NaN                  NaN   \n",
       "1  6584.4   972.7  33.391099  ...            NaN                  NaN   \n",
       "2  6424.1  1330.5  30.941913  ...            NaN                  NaN   \n",
       "3  7070.5  1227.5  31.930148  ...            NaN                  NaN   \n",
       "4  7850.2  1526.3  31.201702  ...            NaN                  NaN   \n",
       "\n",
       "   Turkey_import  Brazil_import  France_import  Germeny_import  \\\n",
       "0   6,833,222.00   2,649,293.00  35,239,920.00             NaN   \n",
       "1   5,647,987.00   2,787,667.00  36,716,752.00             NaN   \n",
       "2   6,721,125.00   4,692,701.00  45,144,561.00             NaN   \n",
       "3   7,169,182.00   2,565,068.00  32,240,349.00             NaN   \n",
       "4  10,466,333.00   4,671,325.00  29,351,633.00             NaN   \n",
       "\n",
       "   United Kingdome_import  China_import  Japan_import  South_korea_import  \n",
       "0                     NaN           NaN           NaN                 NaN  \n",
       "1                     NaN           NaN           NaN                 NaN  \n",
       "2                     NaN           NaN           NaN                 NaN  \n",
       "3                     NaN           NaN           NaN                 NaN  \n",
       "4                     NaN           NaN           NaN                 NaN  \n",
       "\n",
       "[5 rows x 50 columns]"
      ]
     },
     "execution_count": 3,
     "metadata": {},
     "output_type": "execute_result"
    }
   ],
   "source": [
    "df.head()"
   ]
  },
  {
   "cell_type": "code",
   "execution_count": 4,
   "id": "152e95e5",
   "metadata": {},
   "outputs": [
    {
     "data": {
      "text/html": [
       "<div>\n",
       "<style scoped>\n",
       "    .dataframe tbody tr th:only-of-type {\n",
       "        vertical-align: middle;\n",
       "    }\n",
       "\n",
       "    .dataframe tbody tr th {\n",
       "        vertical-align: top;\n",
       "    }\n",
       "\n",
       "    .dataframe thead th {\n",
       "        text-align: right;\n",
       "    }\n",
       "</style>\n",
       "<table border=\"1\" class=\"dataframe\">\n",
       "  <thead>\n",
       "    <tr style=\"text-align: right;\">\n",
       "      <th></th>\n",
       "      <th>Date</th>\n",
       "      <th>Domestic Market (Contract) Blow Molding, Low</th>\n",
       "      <th>Spot/Export Blow Molding</th>\n",
       "      <th>Spot, Domestic</th>\n",
       "      <th>WTISPLC</th>\n",
       "      <th>MCOILBRENTEU</th>\n",
       "      <th>GASREGM</th>\n",
       "      <th>IMPCH</th>\n",
       "      <th>EXPCH</th>\n",
       "      <th>PRUBBUSDM</th>\n",
       "      <th>...</th>\n",
       "      <th>Russia_import</th>\n",
       "      <th>South_Africa_import</th>\n",
       "      <th>Turkey_import</th>\n",
       "      <th>Brazil_import</th>\n",
       "      <th>France_import</th>\n",
       "      <th>Germeny_import</th>\n",
       "      <th>United Kingdome_import</th>\n",
       "      <th>China_import</th>\n",
       "      <th>Japan_import</th>\n",
       "      <th>South_korea_import</th>\n",
       "    </tr>\n",
       "  </thead>\n",
       "  <tbody>\n",
       "    <tr>\n",
       "      <th>271</th>\n",
       "      <td>01/08/2022</td>\n",
       "      <td>93</td>\n",
       "      <td>NaN</td>\n",
       "      <td>NaN</td>\n",
       "      <td>93.67</td>\n",
       "      <td>100.45</td>\n",
       "      <td>3.975</td>\n",
       "      <td>50348.83658</td>\n",
       "      <td>12906.70000</td>\n",
       "      <td>73.304558</td>\n",
       "      <td>...</td>\n",
       "      <td>NaN</td>\n",
       "      <td>19,310,108.00</td>\n",
       "      <td>NaN</td>\n",
       "      <td>NaN</td>\n",
       "      <td>NaN</td>\n",
       "      <td>144,131,334.00</td>\n",
       "      <td>81,872,550.00</td>\n",
       "      <td>NaN</td>\n",
       "      <td>26,097,012.00</td>\n",
       "      <td>NaN</td>\n",
       "    </tr>\n",
       "    <tr>\n",
       "      <th>272</th>\n",
       "      <td>01/09/2022</td>\n",
       "      <td>90</td>\n",
       "      <td>NaN</td>\n",
       "      <td>NaN</td>\n",
       "      <td>84.26</td>\n",
       "      <td>89.76</td>\n",
       "      <td>3.700</td>\n",
       "      <td>49247.89150</td>\n",
       "      <td>11953.51058</td>\n",
       "      <td>66.956499</td>\n",
       "      <td>...</td>\n",
       "      <td>NaN</td>\n",
       "      <td>14,410,445.00</td>\n",
       "      <td>NaN</td>\n",
       "      <td>NaN</td>\n",
       "      <td>NaN</td>\n",
       "      <td>113,310,929.00</td>\n",
       "      <td>74,477,441.00</td>\n",
       "      <td>NaN</td>\n",
       "      <td>21,277,339.00</td>\n",
       "      <td>NaN</td>\n",
       "    </tr>\n",
       "    <tr>\n",
       "      <th>273</th>\n",
       "      <td>01/10/2022</td>\n",
       "      <td>90</td>\n",
       "      <td>NaN</td>\n",
       "      <td>NaN</td>\n",
       "      <td>87.55</td>\n",
       "      <td>93.33</td>\n",
       "      <td>3.815</td>\n",
       "      <td>44571.96712</td>\n",
       "      <td>15698.33965</td>\n",
       "      <td>68.535729</td>\n",
       "      <td>...</td>\n",
       "      <td>NaN</td>\n",
       "      <td>16,783,023.00</td>\n",
       "      <td>NaN</td>\n",
       "      <td>NaN</td>\n",
       "      <td>NaN</td>\n",
       "      <td>119,307,001.00</td>\n",
       "      <td>109,421,098.00</td>\n",
       "      <td>NaN</td>\n",
       "      <td>NaN</td>\n",
       "      <td>NaN</td>\n",
       "    </tr>\n",
       "    <tr>\n",
       "      <th>274</th>\n",
       "      <td>01/11/2022</td>\n",
       "      <td>90</td>\n",
       "      <td>NaN</td>\n",
       "      <td>NaN</td>\n",
       "      <td>84.37</td>\n",
       "      <td>91.42</td>\n",
       "      <td>3.685</td>\n",
       "      <td>36876.43705</td>\n",
       "      <td>15576.00600</td>\n",
       "      <td>65.265834</td>\n",
       "      <td>...</td>\n",
       "      <td>NaN</td>\n",
       "      <td>11,079,039.00</td>\n",
       "      <td>NaN</td>\n",
       "      <td>NaN</td>\n",
       "      <td>NaN</td>\n",
       "      <td>NaN</td>\n",
       "      <td>NaN</td>\n",
       "      <td>NaN</td>\n",
       "      <td>NaN</td>\n",
       "      <td>NaN</td>\n",
       "    </tr>\n",
       "    <tr>\n",
       "      <th>275</th>\n",
       "      <td>01/12/2022</td>\n",
       "      <td>90</td>\n",
       "      <td>NaN</td>\n",
       "      <td>NaN</td>\n",
       "      <td>76.44</td>\n",
       "      <td>80.92</td>\n",
       "      <td>3.210</td>\n",
       "      <td>NaN</td>\n",
       "      <td>NaN</td>\n",
       "      <td>NaN</td>\n",
       "      <td>...</td>\n",
       "      <td>NaN</td>\n",
       "      <td>NaN</td>\n",
       "      <td>NaN</td>\n",
       "      <td>NaN</td>\n",
       "      <td>NaN</td>\n",
       "      <td>NaN</td>\n",
       "      <td>NaN</td>\n",
       "      <td>NaN</td>\n",
       "      <td>NaN</td>\n",
       "      <td>NaN</td>\n",
       "    </tr>\n",
       "  </tbody>\n",
       "</table>\n",
       "<p>5 rows × 50 columns</p>\n",
       "</div>"
      ],
      "text/plain": [
       "           Date  Domestic Market (Contract) Blow Molding, Low  \\\n",
       "271  01/08/2022                                            93   \n",
       "272  01/09/2022                                            90   \n",
       "273  01/10/2022                                            90   \n",
       "274  01/11/2022                                            90   \n",
       "275  01/12/2022                                            90   \n",
       "\n",
       "     Spot/Export Blow Molding  Spot, Domestic  WTISPLC  MCOILBRENTEU  GASREGM  \\\n",
       "271                       NaN             NaN    93.67        100.45    3.975   \n",
       "272                       NaN             NaN    84.26         89.76    3.700   \n",
       "273                       NaN             NaN    87.55         93.33    3.815   \n",
       "274                       NaN             NaN    84.37         91.42    3.685   \n",
       "275                       NaN             NaN    76.44         80.92    3.210   \n",
       "\n",
       "           IMPCH        EXPCH  PRUBBUSDM  ...  Russia_import  \\\n",
       "271  50348.83658  12906.70000  73.304558  ...            NaN   \n",
       "272  49247.89150  11953.51058  66.956499  ...            NaN   \n",
       "273  44571.96712  15698.33965  68.535729  ...            NaN   \n",
       "274  36876.43705  15576.00600  65.265834  ...            NaN   \n",
       "275          NaN          NaN        NaN  ...            NaN   \n",
       "\n",
       "     South_Africa_import  Turkey_import  Brazil_import  France_import  \\\n",
       "271        19,310,108.00            NaN            NaN            NaN   \n",
       "272        14,410,445.00            NaN            NaN            NaN   \n",
       "273        16,783,023.00            NaN            NaN            NaN   \n",
       "274        11,079,039.00            NaN            NaN            NaN   \n",
       "275                  NaN            NaN            NaN            NaN   \n",
       "\n",
       "     Germeny_import  United Kingdome_import  China_import   Japan_import  \\\n",
       "271  144,131,334.00           81,872,550.00           NaN  26,097,012.00   \n",
       "272  113,310,929.00           74,477,441.00           NaN  21,277,339.00   \n",
       "273  119,307,001.00          109,421,098.00           NaN            NaN   \n",
       "274             NaN                     NaN           NaN            NaN   \n",
       "275             NaN                     NaN           NaN            NaN   \n",
       "\n",
       "     South_korea_import  \n",
       "271                 NaN  \n",
       "272                 NaN  \n",
       "273                 NaN  \n",
       "274                 NaN  \n",
       "275                 NaN  \n",
       "\n",
       "[5 rows x 50 columns]"
      ]
     },
     "execution_count": 4,
     "metadata": {},
     "output_type": "execute_result"
    }
   ],
   "source": [
    "df.tail()"
   ]
  },
  {
   "cell_type": "code",
   "execution_count": 5,
   "id": "9fb9c954",
   "metadata": {},
   "outputs": [],
   "source": [
    "df1 = df[['Date','Domestic Market (Contract) Blow Molding, Low']]"
   ]
  },
  {
   "cell_type": "code",
   "execution_count": 6,
   "id": "51558f3c",
   "metadata": {},
   "outputs": [
    {
     "data": {
      "text/html": [
       "<div>\n",
       "<style scoped>\n",
       "    .dataframe tbody tr th:only-of-type {\n",
       "        vertical-align: middle;\n",
       "    }\n",
       "\n",
       "    .dataframe tbody tr th {\n",
       "        vertical-align: top;\n",
       "    }\n",
       "\n",
       "    .dataframe thead th {\n",
       "        text-align: right;\n",
       "    }\n",
       "</style>\n",
       "<table border=\"1\" class=\"dataframe\">\n",
       "  <thead>\n",
       "    <tr style=\"text-align: right;\">\n",
       "      <th></th>\n",
       "      <th>Date</th>\n",
       "      <th>Domestic Market (Contract) Blow Molding, Low</th>\n",
       "    </tr>\n",
       "  </thead>\n",
       "  <tbody>\n",
       "    <tr>\n",
       "      <th>0</th>\n",
       "      <td>01/01/2000</td>\n",
       "      <td>41</td>\n",
       "    </tr>\n",
       "    <tr>\n",
       "      <th>1</th>\n",
       "      <td>01/02/2000</td>\n",
       "      <td>41</td>\n",
       "    </tr>\n",
       "    <tr>\n",
       "      <th>2</th>\n",
       "      <td>01/03/2000</td>\n",
       "      <td>45</td>\n",
       "    </tr>\n",
       "    <tr>\n",
       "      <th>3</th>\n",
       "      <td>01/04/2000</td>\n",
       "      <td>47</td>\n",
       "    </tr>\n",
       "    <tr>\n",
       "      <th>4</th>\n",
       "      <td>01/05/2000</td>\n",
       "      <td>47</td>\n",
       "    </tr>\n",
       "  </tbody>\n",
       "</table>\n",
       "</div>"
      ],
      "text/plain": [
       "         Date  Domestic Market (Contract) Blow Molding, Low\n",
       "0  01/01/2000                                            41\n",
       "1  01/02/2000                                            41\n",
       "2  01/03/2000                                            45\n",
       "3  01/04/2000                                            47\n",
       "4  01/05/2000                                            47"
      ]
     },
     "execution_count": 6,
     "metadata": {},
     "output_type": "execute_result"
    }
   ],
   "source": [
    "df1.head()"
   ]
  },
  {
   "cell_type": "code",
   "execution_count": 7,
   "id": "3501caa1",
   "metadata": {},
   "outputs": [
    {
     "name": "stdout",
     "output_type": "stream",
     "text": [
      "<class 'pandas.core.frame.DataFrame'>\n",
      "RangeIndex: 276 entries, 0 to 275\n",
      "Data columns (total 2 columns):\n",
      " #   Column                                        Non-Null Count  Dtype \n",
      "---  ------                                        --------------  ----- \n",
      " 0   Date                                          276 non-null    object\n",
      " 1   Domestic Market (Contract) Blow Molding, Low  276 non-null    int64 \n",
      "dtypes: int64(1), object(1)\n",
      "memory usage: 4.4+ KB\n"
     ]
    }
   ],
   "source": [
    "df1.info()"
   ]
  },
  {
   "cell_type": "code",
   "execution_count": 8,
   "id": "4100f03f",
   "metadata": {},
   "outputs": [
    {
     "data": {
      "text/plain": [
       "Date                                            0\n",
       "Domestic Market (Contract) Blow Molding, Low    0\n",
       "dtype: int64"
      ]
     },
     "execution_count": 8,
     "metadata": {},
     "output_type": "execute_result"
    }
   ],
   "source": [
    "df1.isnull().sum()"
   ]
  },
  {
   "cell_type": "code",
   "execution_count": 9,
   "id": "2b8827ea",
   "metadata": {},
   "outputs": [],
   "source": [
    "df1['Date'] = pd.to_datetime(df1['Date'], format='%d/%m/%Y')"
   ]
  },
  {
   "cell_type": "code",
   "execution_count": 10,
   "id": "16dcfdf0",
   "metadata": {},
   "outputs": [],
   "source": [
    "df1['Date'] = df1['Date'].dt.strftime('%Y-%m-%d')"
   ]
  },
  {
   "cell_type": "code",
   "execution_count": 11,
   "id": "3899f9d7",
   "metadata": {},
   "outputs": [
    {
     "name": "stdout",
     "output_type": "stream",
     "text": [
      "<class 'pandas.core.frame.DataFrame'>\n",
      "RangeIndex: 276 entries, 0 to 275\n",
      "Data columns (total 2 columns):\n",
      " #   Column                                        Non-Null Count  Dtype \n",
      "---  ------                                        --------------  ----- \n",
      " 0   Date                                          276 non-null    object\n",
      " 1   Domestic Market (Contract) Blow Molding, Low  276 non-null    int64 \n",
      "dtypes: int64(1), object(1)\n",
      "memory usage: 4.4+ KB\n"
     ]
    }
   ],
   "source": [
    "df1.info()"
   ]
  },
  {
   "cell_type": "code",
   "execution_count": 12,
   "id": "15968907",
   "metadata": {},
   "outputs": [
    {
     "data": {
      "text/html": [
       "<div>\n",
       "<style scoped>\n",
       "    .dataframe tbody tr th:only-of-type {\n",
       "        vertical-align: middle;\n",
       "    }\n",
       "\n",
       "    .dataframe tbody tr th {\n",
       "        vertical-align: top;\n",
       "    }\n",
       "\n",
       "    .dataframe thead th {\n",
       "        text-align: right;\n",
       "    }\n",
       "</style>\n",
       "<table border=\"1\" class=\"dataframe\">\n",
       "  <thead>\n",
       "    <tr style=\"text-align: right;\">\n",
       "      <th></th>\n",
       "      <th>Date</th>\n",
       "      <th>Domestic Market (Contract) Blow Molding, Low</th>\n",
       "    </tr>\n",
       "  </thead>\n",
       "  <tbody>\n",
       "    <tr>\n",
       "      <th>0</th>\n",
       "      <td>2000-01-01</td>\n",
       "      <td>41</td>\n",
       "    </tr>\n",
       "    <tr>\n",
       "      <th>1</th>\n",
       "      <td>2000-02-01</td>\n",
       "      <td>41</td>\n",
       "    </tr>\n",
       "    <tr>\n",
       "      <th>2</th>\n",
       "      <td>2000-03-01</td>\n",
       "      <td>45</td>\n",
       "    </tr>\n",
       "    <tr>\n",
       "      <th>3</th>\n",
       "      <td>2000-04-01</td>\n",
       "      <td>47</td>\n",
       "    </tr>\n",
       "    <tr>\n",
       "      <th>4</th>\n",
       "      <td>2000-05-01</td>\n",
       "      <td>47</td>\n",
       "    </tr>\n",
       "  </tbody>\n",
       "</table>\n",
       "</div>"
      ],
      "text/plain": [
       "         Date  Domestic Market (Contract) Blow Molding, Low\n",
       "0  2000-01-01                                            41\n",
       "1  2000-02-01                                            41\n",
       "2  2000-03-01                                            45\n",
       "3  2000-04-01                                            47\n",
       "4  2000-05-01                                            47"
      ]
     },
     "execution_count": 12,
     "metadata": {},
     "output_type": "execute_result"
    }
   ],
   "source": [
    "df1.head()"
   ]
  },
  {
   "cell_type": "code",
   "execution_count": 13,
   "id": "34b3b050",
   "metadata": {},
   "outputs": [
    {
     "name": "stdout",
     "output_type": "stream",
     "text": [
      "<class 'pandas.core.frame.DataFrame'>\n",
      "RangeIndex: 276 entries, 0 to 275\n",
      "Data columns (total 2 columns):\n",
      " #   Column                                        Non-Null Count  Dtype \n",
      "---  ------                                        --------------  ----- \n",
      " 0   Date                                          276 non-null    object\n",
      " 1   Domestic Market (Contract) Blow Molding, Low  276 non-null    int64 \n",
      "dtypes: int64(1), object(1)\n",
      "memory usage: 4.4+ KB\n"
     ]
    }
   ],
   "source": [
    "df1.info()"
   ]
  },
  {
   "cell_type": "code",
   "execution_count": 14,
   "id": "8fbff877",
   "metadata": {},
   "outputs": [],
   "source": [
    "df1['Date'] = pd.to_datetime(df1['Date'])"
   ]
  },
  {
   "cell_type": "code",
   "execution_count": 15,
   "id": "32300759",
   "metadata": {},
   "outputs": [
    {
     "name": "stdout",
     "output_type": "stream",
     "text": [
      "<class 'pandas.core.frame.DataFrame'>\n",
      "RangeIndex: 276 entries, 0 to 275\n",
      "Data columns (total 2 columns):\n",
      " #   Column                                        Non-Null Count  Dtype         \n",
      "---  ------                                        --------------  -----         \n",
      " 0   Date                                          276 non-null    datetime64[ns]\n",
      " 1   Domestic Market (Contract) Blow Molding, Low  276 non-null    int64         \n",
      "dtypes: datetime64[ns](1), int64(1)\n",
      "memory usage: 4.4 KB\n"
     ]
    }
   ],
   "source": [
    "df1.info()"
   ]
  },
  {
   "cell_type": "code",
   "execution_count": 16,
   "id": "bbf40b64",
   "metadata": {},
   "outputs": [],
   "source": [
    "df1.set_index('Date',inplace = True)"
   ]
  },
  {
   "cell_type": "code",
   "execution_count": 17,
   "id": "8702062d",
   "metadata": {},
   "outputs": [
    {
     "data": {
      "text/html": [
       "<div>\n",
       "<style scoped>\n",
       "    .dataframe tbody tr th:only-of-type {\n",
       "        vertical-align: middle;\n",
       "    }\n",
       "\n",
       "    .dataframe tbody tr th {\n",
       "        vertical-align: top;\n",
       "    }\n",
       "\n",
       "    .dataframe thead th {\n",
       "        text-align: right;\n",
       "    }\n",
       "</style>\n",
       "<table border=\"1\" class=\"dataframe\">\n",
       "  <thead>\n",
       "    <tr style=\"text-align: right;\">\n",
       "      <th></th>\n",
       "      <th>Domestic Market (Contract) Blow Molding, Low</th>\n",
       "    </tr>\n",
       "    <tr>\n",
       "      <th>Date</th>\n",
       "      <th></th>\n",
       "    </tr>\n",
       "  </thead>\n",
       "  <tbody>\n",
       "    <tr>\n",
       "      <th>2000-01-01</th>\n",
       "      <td>41</td>\n",
       "    </tr>\n",
       "    <tr>\n",
       "      <th>2000-02-01</th>\n",
       "      <td>41</td>\n",
       "    </tr>\n",
       "    <tr>\n",
       "      <th>2000-03-01</th>\n",
       "      <td>45</td>\n",
       "    </tr>\n",
       "    <tr>\n",
       "      <th>2000-04-01</th>\n",
       "      <td>47</td>\n",
       "    </tr>\n",
       "    <tr>\n",
       "      <th>2000-05-01</th>\n",
       "      <td>47</td>\n",
       "    </tr>\n",
       "  </tbody>\n",
       "</table>\n",
       "</div>"
      ],
      "text/plain": [
       "            Domestic Market (Contract) Blow Molding, Low\n",
       "Date                                                    \n",
       "2000-01-01                                            41\n",
       "2000-02-01                                            41\n",
       "2000-03-01                                            45\n",
       "2000-04-01                                            47\n",
       "2000-05-01                                            47"
      ]
     },
     "execution_count": 17,
     "metadata": {},
     "output_type": "execute_result"
    }
   ],
   "source": [
    "df1.head()"
   ]
  },
  {
   "cell_type": "code",
   "execution_count": 18,
   "id": "2ca85b53",
   "metadata": {},
   "outputs": [
    {
     "data": {
      "text/plain": [
       "<AxesSubplot:xlabel='Date'>"
      ]
     },
     "execution_count": 18,
     "metadata": {},
     "output_type": "execute_result"
    },
    {
     "data": {
      "image/png": "[encoded data removed]",
      "text/plain": [
       "<Figure size 432x288 with 1 Axes>"
      ]
     },
     "metadata": {
      "needs_background": "light"
     },
     "output_type": "display_data"
    }
   ],
   "source": [
    "df1.plot()"
   ]
  },
  {
   "cell_type": "code",
   "execution_count": 19,
   "id": "19699d06",
   "metadata": {},
   "outputs": [],
   "source": [
    "import statsmodels.api as sms\n",
    "from statsmodels.tsa.stattools import adfuller"
   ]
  },
  {
   "cell_type": "code",
   "execution_count": 20,
   "id": "baa62172",
   "metadata": {},
   "outputs": [],
   "source": [
    "def adf_test(series):\n",
    "    result=adfuller(series)\n",
    "    print('ADF Statistics: {}'.format(result[0]))\n",
    "    print('p- value: {}'.format(result[1]))\n",
    "    if result[1] <= 0.05:\n",
    "        print(\"strong evidence against the null hypothesis, reject the null hypothesis. Data has no unit root and is stationary\")\n",
    "    else:\n",
    "        print(\"weak evidence against null hypothesis, time series has a unit root, indicating it is non-stationary \")"
   ]
  },
  {
   "cell_type": "code",
   "execution_count": 21,
   "id": "89439cdb",
   "metadata": {},
   "outputs": [
    {
     "name": "stdout",
     "output_type": "stream",
     "text": [
      "ADF Statistics: -2.2397167676431793\n",
      "p- value: 0.19214751697964344\n",
      "weak evidence against null hypothesis, time series has a unit root, indicating it is non-stationary \n"
     ]
    }
   ],
   "source": [
    "adf_test(df1['Domestic Market (Contract) Blow Molding, Low'])"
   ]
  },
  {
   "cell_type": "code",
   "execution_count": 22,
   "id": "2af39006",
   "metadata": {},
   "outputs": [],
   "source": [
    "## Use Techniques Differencing\n",
    "df1['First Difference']=df1['Domestic Market (Contract) Blow Molding, Low']-df1['Domestic Market (Contract) Blow Molding, Low'].shift(1)"
   ]
  },
  {
   "cell_type": "code",
   "execution_count": 23,
   "id": "0cea6d97",
   "metadata": {},
   "outputs": [
    {
     "data": {
      "text/html": [
       "<div>\n",
       "<style scoped>\n",
       "    .dataframe tbody tr th:only-of-type {\n",
       "        vertical-align: middle;\n",
       "    }\n",
       "\n",
       "    .dataframe tbody tr th {\n",
       "        vertical-align: top;\n",
       "    }\n",
       "\n",
       "    .dataframe thead th {\n",
       "        text-align: right;\n",
       "    }\n",
       "</style>\n",
       "<table border=\"1\" class=\"dataframe\">\n",
       "  <thead>\n",
       "    <tr style=\"text-align: right;\">\n",
       "      <th></th>\n",
       "      <th>Domestic Market (Contract) Blow Molding, Low</th>\n",
       "      <th>First Difference</th>\n",
       "    </tr>\n",
       "    <tr>\n",
       "      <th>Date</th>\n",
       "      <th></th>\n",
       "      <th></th>\n",
       "    </tr>\n",
       "  </thead>\n",
       "  <tbody>\n",
       "    <tr>\n",
       "      <th>2000-01-01</th>\n",
       "      <td>41</td>\n",
       "      <td>NaN</td>\n",
       "    </tr>\n",
       "    <tr>\n",
       "      <th>2000-02-01</th>\n",
       "      <td>41</td>\n",
       "      <td>0.0</td>\n",
       "    </tr>\n",
       "    <tr>\n",
       "      <th>2000-03-01</th>\n",
       "      <td>45</td>\n",
       "      <td>4.0</td>\n",
       "    </tr>\n",
       "    <tr>\n",
       "      <th>2000-04-01</th>\n",
       "      <td>47</td>\n",
       "      <td>2.0</td>\n",
       "    </tr>\n",
       "    <tr>\n",
       "      <th>2000-05-01</th>\n",
       "      <td>47</td>\n",
       "      <td>0.0</td>\n",
       "    </tr>\n",
       "  </tbody>\n",
       "</table>\n",
       "</div>"
      ],
      "text/plain": [
       "            Domestic Market (Contract) Blow Molding, Low  First Difference\n",
       "Date                                                                      \n",
       "2000-01-01                                            41               NaN\n",
       "2000-02-01                                            41               0.0\n",
       "2000-03-01                                            45               4.0\n",
       "2000-04-01                                            47               2.0\n",
       "2000-05-01                                            47               0.0"
      ]
     },
     "execution_count": 23,
     "metadata": {},
     "output_type": "execute_result"
    }
   ],
   "source": [
    "df1.head()"
   ]
  },
  {
   "cell_type": "code",
   "execution_count": 24,
   "id": "269b52cb",
   "metadata": {},
   "outputs": [
    {
     "name": "stdout",
     "output_type": "stream",
     "text": [
      "ADF Statistics: -9.394706411040303\n",
      "p- value: 6.420610652788122e-16\n",
      "strong evidence against the null hypothesis, reject the null hypothesis. Data has no unit root and is stationary\n"
     ]
    }
   ],
   "source": [
    "adf_test(df1['First Difference'].dropna())"
   ]
  },
  {
   "cell_type": "code",
   "execution_count": 25,
   "id": "674a32be",
   "metadata": {},
   "outputs": [],
   "source": [
    "## Use Techniques Differencing\n",
    "df1['Second Difference']=df1['First Difference']-df1['First Difference'] .shift(1)"
   ]
  },
  {
   "cell_type": "code",
   "execution_count": 26,
   "id": "96ea122b",
   "metadata": {},
   "outputs": [
    {
     "data": {
      "text/html": [
       "<div>\n",
       "<style scoped>\n",
       "    .dataframe tbody tr th:only-of-type {\n",
       "        vertical-align: middle;\n",
       "    }\n",
       "\n",
       "    .dataframe tbody tr th {\n",
       "        vertical-align: top;\n",
       "    }\n",
       "\n",
       "    .dataframe thead th {\n",
       "        text-align: right;\n",
       "    }\n",
       "</style>\n",
       "<table border=\"1\" class=\"dataframe\">\n",
       "  <thead>\n",
       "    <tr style=\"text-align: right;\">\n",
       "      <th></th>\n",
       "      <th>Domestic Market (Contract) Blow Molding, Low</th>\n",
       "      <th>First Difference</th>\n",
       "      <th>Second Difference</th>\n",
       "    </tr>\n",
       "    <tr>\n",
       "      <th>Date</th>\n",
       "      <th></th>\n",
       "      <th></th>\n",
       "      <th></th>\n",
       "    </tr>\n",
       "  </thead>\n",
       "  <tbody>\n",
       "    <tr>\n",
       "      <th>2000-01-01</th>\n",
       "      <td>41</td>\n",
       "      <td>NaN</td>\n",
       "      <td>NaN</td>\n",
       "    </tr>\n",
       "    <tr>\n",
       "      <th>2000-02-01</th>\n",
       "      <td>41</td>\n",
       "      <td>0.0</td>\n",
       "      <td>NaN</td>\n",
       "    </tr>\n",
       "    <tr>\n",
       "      <th>2000-03-01</th>\n",
       "      <td>45</td>\n",
       "      <td>4.0</td>\n",
       "      <td>4.0</td>\n",
       "    </tr>\n",
       "    <tr>\n",
       "      <th>2000-04-01</th>\n",
       "      <td>47</td>\n",
       "      <td>2.0</td>\n",
       "      <td>-2.0</td>\n",
       "    </tr>\n",
       "    <tr>\n",
       "      <th>2000-05-01</th>\n",
       "      <td>47</td>\n",
       "      <td>0.0</td>\n",
       "      <td>-2.0</td>\n",
       "    </tr>\n",
       "  </tbody>\n",
       "</table>\n",
       "</div>"
      ],
      "text/plain": [
       "            Domestic Market (Contract) Blow Molding, Low  First Difference  \\\n",
       "Date                                                                         \n",
       "2000-01-01                                            41               NaN   \n",
       "2000-02-01                                            41               0.0   \n",
       "2000-03-01                                            45               4.0   \n",
       "2000-04-01                                            47               2.0   \n",
       "2000-05-01                                            47               0.0   \n",
       "\n",
       "            Second Difference  \n",
       "Date                           \n",
       "2000-01-01                NaN  \n",
       "2000-02-01                NaN  \n",
       "2000-03-01                4.0  \n",
       "2000-04-01               -2.0  \n",
       "2000-05-01               -2.0  "
      ]
     },
     "execution_count": 26,
     "metadata": {},
     "output_type": "execute_result"
    }
   ],
   "source": [
    "df1.head()"
   ]
  },
  {
   "cell_type": "code",
   "execution_count": 27,
   "id": "d4ee2820",
   "metadata": {},
   "outputs": [
    {
     "name": "stdout",
     "output_type": "stream",
     "text": [
      "ADF Statistics: -9.661557395925774\n",
      "p- value: 1.3492469190243584e-16\n",
      "strong evidence against the null hypothesis, reject the null hypothesis. Data has no unit root and is stationary\n"
     ]
    }
   ],
   "source": [
    "adf_test(df1['Second Difference'].dropna())"
   ]
  },
  {
   "cell_type": "code",
   "execution_count": 28,
   "id": "50613ad8",
   "metadata": {},
   "outputs": [],
   "source": [
    "from statsmodels.graphics.tsaplots import plot_acf,plot_pacf"
   ]
  },
  {
   "cell_type": "code",
   "execution_count": 29,
   "id": "a6911b0f",
   "metadata": {},
   "outputs": [
    {
     "data": {
      "image/png": "[encoded data removed]",
      "text/plain": [
       "<Figure size 432x288 with 1 Axes>"
      ]
     },
     "metadata": {
      "needs_background": "light"
     },
     "output_type": "display_data"
    }
   ],
   "source": [
    "acf = plot_acf(df1['First Difference'].dropna())"
   ]
  },
  {
   "cell_type": "code",
   "execution_count": 30,
   "id": "b8450415",
   "metadata": {},
   "outputs": [
    {
     "data": {
      "image/png": "[encoded data removed]",
      "text/plain": [
       "<Figure size 432x288 with 1 Axes>"
      ]
     },
     "metadata": {
      "needs_background": "light"
     },
     "output_type": "display_data"
    }
   ],
   "source": [
    "acf = plot_acf(df1['Second Difference'].dropna())"
   ]
  },
  {
   "cell_type": "code",
   "execution_count": 31,
   "id": "3e2fa87b",
   "metadata": {},
   "outputs": [
    {
     "data": {
      "image/png": "[encoded data removed]",
      "text/plain": [
       "<Figure size 432x288 with 1 Axes>"
      ]
     },
     "metadata": {
      "needs_background": "light"
     },
     "output_type": "display_data"
    }
   ],
   "source": [
    "pacf = plot_pacf(df1[\"First Difference\"].dropna())"
   ]
  },
  {
   "cell_type": "code",
   "execution_count": 32,
   "id": "90017baf",
   "metadata": {},
   "outputs": [
    {
     "data": {
      "text/html": [
       "<div>\n",
       "<style scoped>\n",
       "    .dataframe tbody tr th:only-of-type {\n",
       "        vertical-align: middle;\n",
       "    }\n",
       "\n",
       "    .dataframe tbody tr th {\n",
       "        vertical-align: top;\n",
       "    }\n",
       "\n",
       "    .dataframe thead th {\n",
       "        text-align: right;\n",
       "    }\n",
       "</style>\n",
       "<table border=\"1\" class=\"dataframe\">\n",
       "  <thead>\n",
       "    <tr style=\"text-align: right;\">\n",
       "      <th></th>\n",
       "      <th>Domestic Market (Contract) Blow Molding, Low</th>\n",
       "      <th>First Difference</th>\n",
       "      <th>Second Difference</th>\n",
       "    </tr>\n",
       "    <tr>\n",
       "      <th>Date</th>\n",
       "      <th></th>\n",
       "      <th></th>\n",
       "      <th></th>\n",
       "    </tr>\n",
       "  </thead>\n",
       "  <tbody>\n",
       "    <tr>\n",
       "      <th>2000-01-01</th>\n",
       "      <td>41</td>\n",
       "      <td>NaN</td>\n",
       "      <td>NaN</td>\n",
       "    </tr>\n",
       "    <tr>\n",
       "      <th>2000-02-01</th>\n",
       "      <td>41</td>\n",
       "      <td>0.0</td>\n",
       "      <td>NaN</td>\n",
       "    </tr>\n",
       "    <tr>\n",
       "      <th>2000-03-01</th>\n",
       "      <td>45</td>\n",
       "      <td>4.0</td>\n",
       "      <td>4.0</td>\n",
       "    </tr>\n",
       "    <tr>\n",
       "      <th>2000-04-01</th>\n",
       "      <td>47</td>\n",
       "      <td>2.0</td>\n",
       "      <td>-2.0</td>\n",
       "    </tr>\n",
       "    <tr>\n",
       "      <th>2000-05-01</th>\n",
       "      <td>47</td>\n",
       "      <td>0.0</td>\n",
       "      <td>-2.0</td>\n",
       "    </tr>\n",
       "    <tr>\n",
       "      <th>...</th>\n",
       "      <td>...</td>\n",
       "      <td>...</td>\n",
       "      <td>...</td>\n",
       "    </tr>\n",
       "    <tr>\n",
       "      <th>2022-08-01</th>\n",
       "      <td>93</td>\n",
       "      <td>-4.0</td>\n",
       "      <td>-1.0</td>\n",
       "    </tr>\n",
       "    <tr>\n",
       "      <th>2022-09-01</th>\n",
       "      <td>90</td>\n",
       "      <td>-3.0</td>\n",
       "      <td>1.0</td>\n",
       "    </tr>\n",
       "    <tr>\n",
       "      <th>2022-10-01</th>\n",
       "      <td>90</td>\n",
       "      <td>0.0</td>\n",
       "      <td>3.0</td>\n",
       "    </tr>\n",
       "    <tr>\n",
       "      <th>2022-11-01</th>\n",
       "      <td>90</td>\n",
       "      <td>0.0</td>\n",
       "      <td>0.0</td>\n",
       "    </tr>\n",
       "    <tr>\n",
       "      <th>2022-12-01</th>\n",
       "      <td>90</td>\n",
       "      <td>0.0</td>\n",
       "      <td>0.0</td>\n",
       "    </tr>\n",
       "  </tbody>\n",
       "</table>\n",
       "<p>276 rows × 3 columns</p>\n",
       "</div>"
      ],
      "text/plain": [
       "            Domestic Market (Contract) Blow Molding, Low  First Difference  \\\n",
       "Date                                                                         \n",
       "2000-01-01                                            41               NaN   \n",
       "2000-02-01                                            41               0.0   \n",
       "2000-03-01                                            45               4.0   \n",
       "2000-04-01                                            47               2.0   \n",
       "2000-05-01                                            47               0.0   \n",
       "...                                                  ...               ...   \n",
       "2022-08-01                                            93              -4.0   \n",
       "2022-09-01                                            90              -3.0   \n",
       "2022-10-01                                            90               0.0   \n",
       "2022-11-01                                            90               0.0   \n",
       "2022-12-01                                            90               0.0   \n",
       "\n",
       "            Second Difference  \n",
       "Date                           \n",
       "2000-01-01                NaN  \n",
       "2000-02-01                NaN  \n",
       "2000-03-01                4.0  \n",
       "2000-04-01               -2.0  \n",
       "2000-05-01               -2.0  \n",
       "...                       ...  \n",
       "2022-08-01               -1.0  \n",
       "2022-09-01                1.0  \n",
       "2022-10-01                3.0  \n",
       "2022-11-01                0.0  \n",
       "2022-12-01                0.0  \n",
       "\n",
       "[276 rows x 3 columns]"
      ]
     },
     "execution_count": 32,
     "metadata": {},
     "output_type": "execute_result"
    }
   ],
   "source": [
    "df1"
   ]
  },
  {
   "cell_type": "code",
   "execution_count": 33,
   "id": "239d1471",
   "metadata": {},
   "outputs": [],
   "source": [
    "from datetime import datetime,timedelta\n",
    "train_dataset_end=datetime(2015,12,1)\n",
    "test_dataset_end=datetime(2022,12,1)"
   ]
  },
  {
   "cell_type": "code",
   "execution_count": 34,
   "id": "f1772470",
   "metadata": {},
   "outputs": [],
   "source": [
    "train_data=df1[:train_dataset_end]\n",
    "test_data=df1[train_dataset_end+timedelta(days=1):test_dataset_end]"
   ]
  },
  {
   "cell_type": "code",
   "execution_count": 35,
   "id": "f03e4100",
   "metadata": {},
   "outputs": [],
   "source": [
    "##prediction\n",
    "pred_start_date=test_data.index[0]\n",
    "pred_end_date=test_data.index[-1]"
   ]
  },
  {
   "cell_type": "code",
   "execution_count": 36,
   "id": "ef02391d",
   "metadata": {},
   "outputs": [
    {
     "data": {
      "text/html": [
       "<div>\n",
       "<style scoped>\n",
       "    .dataframe tbody tr th:only-of-type {\n",
       "        vertical-align: middle;\n",
       "    }\n",
       "\n",
       "    .dataframe tbody tr th {\n",
       "        vertical-align: top;\n",
       "    }\n",
       "\n",
       "    .dataframe thead th {\n",
       "        text-align: right;\n",
       "    }\n",
       "</style>\n",
       "<table border=\"1\" class=\"dataframe\">\n",
       "  <thead>\n",
       "    <tr style=\"text-align: right;\">\n",
       "      <th></th>\n",
       "      <th>Domestic Market (Contract) Blow Molding, Low</th>\n",
       "      <th>First Difference</th>\n",
       "      <th>Second Difference</th>\n",
       "    </tr>\n",
       "    <tr>\n",
       "      <th>Date</th>\n",
       "      <th></th>\n",
       "      <th></th>\n",
       "      <th></th>\n",
       "    </tr>\n",
       "  </thead>\n",
       "  <tbody>\n",
       "    <tr>\n",
       "      <th>2016-01-01</th>\n",
       "      <td>60</td>\n",
       "      <td>-3.0</td>\n",
       "      <td>-3.0</td>\n",
       "    </tr>\n",
       "    <tr>\n",
       "      <th>2016-02-01</th>\n",
       "      <td>58</td>\n",
       "      <td>-2.0</td>\n",
       "      <td>1.0</td>\n",
       "    </tr>\n",
       "    <tr>\n",
       "      <th>2016-03-01</th>\n",
       "      <td>63</td>\n",
       "      <td>5.0</td>\n",
       "      <td>7.0</td>\n",
       "    </tr>\n",
       "    <tr>\n",
       "      <th>2016-04-01</th>\n",
       "      <td>67</td>\n",
       "      <td>4.0</td>\n",
       "      <td>-1.0</td>\n",
       "    </tr>\n",
       "    <tr>\n",
       "      <th>2016-05-01</th>\n",
       "      <td>67</td>\n",
       "      <td>0.0</td>\n",
       "      <td>-4.0</td>\n",
       "    </tr>\n",
       "    <tr>\n",
       "      <th>...</th>\n",
       "      <td>...</td>\n",
       "      <td>...</td>\n",
       "      <td>...</td>\n",
       "    </tr>\n",
       "    <tr>\n",
       "      <th>2022-08-01</th>\n",
       "      <td>93</td>\n",
       "      <td>-4.0</td>\n",
       "      <td>-1.0</td>\n",
       "    </tr>\n",
       "    <tr>\n",
       "      <th>2022-09-01</th>\n",
       "      <td>90</td>\n",
       "      <td>-3.0</td>\n",
       "      <td>1.0</td>\n",
       "    </tr>\n",
       "    <tr>\n",
       "      <th>2022-10-01</th>\n",
       "      <td>90</td>\n",
       "      <td>0.0</td>\n",
       "      <td>3.0</td>\n",
       "    </tr>\n",
       "    <tr>\n",
       "      <th>2022-11-01</th>\n",
       "      <td>90</td>\n",
       "      <td>0.0</td>\n",
       "      <td>0.0</td>\n",
       "    </tr>\n",
       "    <tr>\n",
       "      <th>2022-12-01</th>\n",
       "      <td>90</td>\n",
       "      <td>0.0</td>\n",
       "      <td>0.0</td>\n",
       "    </tr>\n",
       "  </tbody>\n",
       "</table>\n",
       "<p>84 rows × 3 columns</p>\n",
       "</div>"
      ],
      "text/plain": [
       "            Domestic Market (Contract) Blow Molding, Low  First Difference  \\\n",
       "Date                                                                         \n",
       "2016-01-01                                            60              -3.0   \n",
       "2016-02-01                                            58              -2.0   \n",
       "2016-03-01                                            63               5.0   \n",
       "2016-04-01                                            67               4.0   \n",
       "2016-05-01                                            67               0.0   \n",
       "...                                                  ...               ...   \n",
       "2022-08-01                                            93              -4.0   \n",
       "2022-09-01                                            90              -3.0   \n",
       "2022-10-01                                            90               0.0   \n",
       "2022-11-01                                            90               0.0   \n",
       "2022-12-01                                            90               0.0   \n",
       "\n",
       "            Second Difference  \n",
       "Date                           \n",
       "2016-01-01               -3.0  \n",
       "2016-02-01                1.0  \n",
       "2016-03-01                7.0  \n",
       "2016-04-01               -1.0  \n",
       "2016-05-01               -4.0  \n",
       "...                       ...  \n",
       "2022-08-01               -1.0  \n",
       "2022-09-01                1.0  \n",
       "2022-10-01                3.0  \n",
       "2022-11-01                0.0  \n",
       "2022-12-01                0.0  \n",
       "\n",
       "[84 rows x 3 columns]"
      ]
     },
     "execution_count": 36,
     "metadata": {},
     "output_type": "execute_result"
    }
   ],
   "source": [
    "test_data"
   ]
  },
  {
   "cell_type": "code",
   "execution_count": 37,
   "id": "59fe0be8",
   "metadata": {},
   "outputs": [
    {
     "data": {
      "text/html": [
       "<div>\n",
       "<style scoped>\n",
       "    .dataframe tbody tr th:only-of-type {\n",
       "        vertical-align: middle;\n",
       "    }\n",
       "\n",
       "    .dataframe tbody tr th {\n",
       "        vertical-align: top;\n",
       "    }\n",
       "\n",
       "    .dataframe thead th {\n",
       "        text-align: right;\n",
       "    }\n",
       "</style>\n",
       "<table border=\"1\" class=\"dataframe\">\n",
       "  <thead>\n",
       "    <tr style=\"text-align: right;\">\n",
       "      <th></th>\n",
       "      <th>Domestic Market (Contract) Blow Molding, Low</th>\n",
       "      <th>First Difference</th>\n",
       "      <th>Second Difference</th>\n",
       "    </tr>\n",
       "    <tr>\n",
       "      <th>Date</th>\n",
       "      <th></th>\n",
       "      <th></th>\n",
       "      <th></th>\n",
       "    </tr>\n",
       "  </thead>\n",
       "  <tbody>\n",
       "    <tr>\n",
       "      <th>2000-01-01</th>\n",
       "      <td>41</td>\n",
       "      <td>NaN</td>\n",
       "      <td>NaN</td>\n",
       "    </tr>\n",
       "    <tr>\n",
       "      <th>2000-02-01</th>\n",
       "      <td>41</td>\n",
       "      <td>0.0</td>\n",
       "      <td>NaN</td>\n",
       "    </tr>\n",
       "    <tr>\n",
       "      <th>2000-03-01</th>\n",
       "      <td>45</td>\n",
       "      <td>4.0</td>\n",
       "      <td>4.0</td>\n",
       "    </tr>\n",
       "    <tr>\n",
       "      <th>2000-04-01</th>\n",
       "      <td>47</td>\n",
       "      <td>2.0</td>\n",
       "      <td>-2.0</td>\n",
       "    </tr>\n",
       "    <tr>\n",
       "      <th>2000-05-01</th>\n",
       "      <td>47</td>\n",
       "      <td>0.0</td>\n",
       "      <td>-2.0</td>\n",
       "    </tr>\n",
       "    <tr>\n",
       "      <th>...</th>\n",
       "      <td>...</td>\n",
       "      <td>...</td>\n",
       "      <td>...</td>\n",
       "    </tr>\n",
       "    <tr>\n",
       "      <th>2015-08-01</th>\n",
       "      <td>67</td>\n",
       "      <td>-5.0</td>\n",
       "      <td>-5.0</td>\n",
       "    </tr>\n",
       "    <tr>\n",
       "      <th>2015-09-01</th>\n",
       "      <td>63</td>\n",
       "      <td>-4.0</td>\n",
       "      <td>1.0</td>\n",
       "    </tr>\n",
       "    <tr>\n",
       "      <th>2015-10-01</th>\n",
       "      <td>63</td>\n",
       "      <td>0.0</td>\n",
       "      <td>4.0</td>\n",
       "    </tr>\n",
       "    <tr>\n",
       "      <th>2015-11-01</th>\n",
       "      <td>63</td>\n",
       "      <td>0.0</td>\n",
       "      <td>0.0</td>\n",
       "    </tr>\n",
       "    <tr>\n",
       "      <th>2015-12-01</th>\n",
       "      <td>63</td>\n",
       "      <td>0.0</td>\n",
       "      <td>0.0</td>\n",
       "    </tr>\n",
       "  </tbody>\n",
       "</table>\n",
       "<p>192 rows × 3 columns</p>\n",
       "</div>"
      ],
      "text/plain": [
       "            Domestic Market (Contract) Blow Molding, Low  First Difference  \\\n",
       "Date                                                                         \n",
       "2000-01-01                                            41               NaN   \n",
       "2000-02-01                                            41               0.0   \n",
       "2000-03-01                                            45               4.0   \n",
       "2000-04-01                                            47               2.0   \n",
       "2000-05-01                                            47               0.0   \n",
       "...                                                  ...               ...   \n",
       "2015-08-01                                            67              -5.0   \n",
       "2015-09-01                                            63              -4.0   \n",
       "2015-10-01                                            63               0.0   \n",
       "2015-11-01                                            63               0.0   \n",
       "2015-12-01                                            63               0.0   \n",
       "\n",
       "            Second Difference  \n",
       "Date                           \n",
       "2000-01-01                NaN  \n",
       "2000-02-01                NaN  \n",
       "2000-03-01                4.0  \n",
       "2000-04-01               -2.0  \n",
       "2000-05-01               -2.0  \n",
       "...                       ...  \n",
       "2015-08-01               -5.0  \n",
       "2015-09-01                1.0  \n",
       "2015-10-01                4.0  \n",
       "2015-11-01                0.0  \n",
       "2015-12-01                0.0  \n",
       "\n",
       "[192 rows x 3 columns]"
      ]
     },
     "execution_count": 37,
     "metadata": {},
     "output_type": "execute_result"
    }
   ],
   "source": [
    "train_data"
   ]
  },
  {
   "cell_type": "code",
   "execution_count": 38,
   "id": "7e408362",
   "metadata": {},
   "outputs": [],
   "source": [
    "## create a ARIMA model\n",
    "from statsmodels.tsa.arima.model import ARIMA"
   ]
  },
  {
   "cell_type": "code",
   "execution_count": 39,
   "id": "cf649c22",
   "metadata": {},
   "outputs": [
    {
     "name": "stderr",
     "output_type": "stream",
     "text": [
      "C:\\Users\\pradhan\\anaconda3\\lib\\site-packages\\statsmodels\\tsa\\base\\tsa_model.py:471: ValueWarning: No frequency information was provided, so inferred frequency MS will be used.\n",
      "  self._init_dates(dates, freq)\n",
      "C:\\Users\\pradhan\\anaconda3\\lib\\site-packages\\statsmodels\\tsa\\base\\tsa_model.py:471: ValueWarning: No frequency information was provided, so inferred frequency MS will be used.\n",
      "  self._init_dates(dates, freq)\n",
      "C:\\Users\\pradhan\\anaconda3\\lib\\site-packages\\statsmodels\\tsa\\base\\tsa_model.py:471: ValueWarning: No frequency information was provided, so inferred frequency MS will be used.\n",
      "  self._init_dates(dates, freq)\n"
     ]
    }
   ],
   "source": [
    "model_ARIMA=ARIMA(train_data['Domestic Market (Contract) Blow Molding, Low'],order=(3,1,0))"
   ]
  },
  {
   "cell_type": "code",
   "execution_count": 40,
   "id": "5dbdfef9",
   "metadata": {},
   "outputs": [],
   "source": [
    "model_Arima_fit=model_ARIMA.fit()"
   ]
  },
  {
   "cell_type": "code",
   "execution_count": 41,
   "id": "e8da44cb",
   "metadata": {},
   "outputs": [
    {
     "data": {
      "text/html": [
       "<table class=\"simpletable\">\n",
       "<caption>SARIMAX Results</caption>\n",
       "<tr>\n",
       "  <th>Dep. Variable:</th>   <td>Domestic Market (Contract) Blow Molding, Low</td> <th>  No. Observations:  </th>    <td>192</td>  \n",
       "</tr>\n",
       "<tr>\n",
       "  <th>Model:</th>                          <td>ARIMA(3, 1, 0)</td>                <th>  Log Likelihood     </th> <td>-512.814</td>\n",
       "</tr>\n",
       "<tr>\n",
       "  <th>Date:</th>                          <td>Sun, 04 Jun 2023</td>               <th>  AIC                </th> <td>1033.627</td>\n",
       "</tr>\n",
       "<tr>\n",
       "  <th>Time:</th>                              <td>22:14:29</td>                   <th>  BIC                </th> <td>1046.636</td>\n",
       "</tr>\n",
       "<tr>\n",
       "  <th>Sample:</th>                           <td>01-01-2000</td>                  <th>  HQIC               </th> <td>1038.897</td>\n",
       "</tr>\n",
       "<tr>\n",
       "  <th></th>                                 <td>- 12-01-2015</td>                 <th>                     </th>     <td> </td>   \n",
       "</tr>\n",
       "<tr>\n",
       "  <th>Covariance Type:</th>                      <td>opg</td>                     <th>                     </th>     <td> </td>   \n",
       "</tr>\n",
       "</table>\n",
       "<table class=\"simpletable\">\n",
       "<tr>\n",
       "     <td></td>       <th>coef</th>     <th>std err</th>      <th>z</th>      <th>P>|z|</th>  <th>[0.025</th>    <th>0.975]</th>  \n",
       "</tr>\n",
       "<tr>\n",
       "  <th>ar.L1</th>  <td>    0.5181</td> <td>    0.049</td> <td>   10.545</td> <td> 0.000</td> <td>    0.422</td> <td>    0.614</td>\n",
       "</tr>\n",
       "<tr>\n",
       "  <th>ar.L2</th>  <td>   -0.0661</td> <td>    0.105</td> <td>   -0.627</td> <td> 0.531</td> <td>   -0.273</td> <td>    0.141</td>\n",
       "</tr>\n",
       "<tr>\n",
       "  <th>ar.L3</th>  <td>   -0.1651</td> <td>    0.068</td> <td>   -2.419</td> <td> 0.016</td> <td>   -0.299</td> <td>   -0.031</td>\n",
       "</tr>\n",
       "<tr>\n",
       "  <th>sigma2</th> <td>   12.5521</td> <td>    0.530</td> <td>   23.698</td> <td> 0.000</td> <td>   11.514</td> <td>   13.590</td>\n",
       "</tr>\n",
       "</table>\n",
       "<table class=\"simpletable\">\n",
       "<tr>\n",
       "  <th>Ljung-Box (L1) (Q):</th>     <td>0.18</td> <th>  Jarque-Bera (JB):  </th> <td>2069.31</td>\n",
       "</tr>\n",
       "<tr>\n",
       "  <th>Prob(Q):</th>                <td>0.67</td> <th>  Prob(JB):          </th>  <td>0.00</td>  \n",
       "</tr>\n",
       "<tr>\n",
       "  <th>Heteroskedasticity (H):</th> <td>4.22</td> <th>  Skew:              </th>  <td>-2.31</td> \n",
       "</tr>\n",
       "<tr>\n",
       "  <th>Prob(H) (two-sided):</th>    <td>0.00</td> <th>  Kurtosis:          </th>  <td>18.45</td> \n",
       "</tr>\n",
       "</table><br/><br/>Warnings:<br/>[1] Covariance matrix calculated using the outer product of gradients (complex-step)."
      ],
      "text/plain": [
       "<class 'statsmodels.iolib.summary.Summary'>\n",
       "\"\"\"\n",
       "                                            SARIMAX Results                                             \n",
       "========================================================================================================\n",
       "Dep. Variable:     Domestic Market (Contract) Blow Molding, Low   No. Observations:                  192\n",
       "Model:                                           ARIMA(3, 1, 0)   Log Likelihood                -512.814\n",
       "Date:                                          Sun, 04 Jun 2023   AIC                           1033.627\n",
       "Time:                                                  22:14:29   BIC                           1046.636\n",
       "Sample:                                              01-01-2000   HQIC                          1038.897\n",
       "                                                   - 12-01-2015                                         \n",
       "Covariance Type:                                            opg                                         \n",
       "==============================================================================\n",
       "                 coef    std err          z      P>|z|      [0.025      0.975]\n",
       "------------------------------------------------------------------------------\n",
       "ar.L1          0.5181      0.049     10.545      0.000       0.422       0.614\n",
       "ar.L2         -0.0661      0.105     -0.627      0.531      -0.273       0.141\n",
       "ar.L3         -0.1651      0.068     -2.419      0.016      -0.299      -0.031\n",
       "sigma2        12.5521      0.530     23.698      0.000      11.514      13.590\n",
       "===================================================================================\n",
       "Ljung-Box (L1) (Q):                   0.18   Jarque-Bera (JB):              2069.31\n",
       "Prob(Q):                              0.67   Prob(JB):                         0.00\n",
       "Heteroskedasticity (H):               4.22   Skew:                            -2.31\n",
       "Prob(H) (two-sided):                  0.00   Kurtosis:                        18.45\n",
       "===================================================================================\n",
       "\n",
       "Warnings:\n",
       "[1] Covariance matrix calculated using the outer product of gradients (complex-step).\n",
       "\"\"\""
      ]
     },
     "execution_count": 41,
     "metadata": {},
     "output_type": "execute_result"
    }
   ],
   "source": [
    "model_Arima_fit.summary()"
   ]
  },
  {
   "cell_type": "code",
   "execution_count": 42,
   "id": "5a3f2460",
   "metadata": {},
   "outputs": [
    {
     "data": {
      "text/html": [
       "<div>\n",
       "<style scoped>\n",
       "    .dataframe tbody tr th:only-of-type {\n",
       "        vertical-align: middle;\n",
       "    }\n",
       "\n",
       "    .dataframe tbody tr th {\n",
       "        vertical-align: top;\n",
       "    }\n",
       "\n",
       "    .dataframe thead th {\n",
       "        text-align: right;\n",
       "    }\n",
       "</style>\n",
       "<table border=\"1\" class=\"dataframe\">\n",
       "  <thead>\n",
       "    <tr style=\"text-align: right;\">\n",
       "      <th></th>\n",
       "      <th>Domestic Market (Contract) Blow Molding, Low</th>\n",
       "      <th>First Difference</th>\n",
       "      <th>Second Difference</th>\n",
       "    </tr>\n",
       "    <tr>\n",
       "      <th>Date</th>\n",
       "      <th></th>\n",
       "      <th></th>\n",
       "      <th></th>\n",
       "    </tr>\n",
       "  </thead>\n",
       "  <tbody>\n",
       "    <tr>\n",
       "      <th>2016-01-01</th>\n",
       "      <td>60</td>\n",
       "      <td>-3.0</td>\n",
       "      <td>-3.0</td>\n",
       "    </tr>\n",
       "    <tr>\n",
       "      <th>2016-02-01</th>\n",
       "      <td>58</td>\n",
       "      <td>-2.0</td>\n",
       "      <td>1.0</td>\n",
       "    </tr>\n",
       "    <tr>\n",
       "      <th>2016-03-01</th>\n",
       "      <td>63</td>\n",
       "      <td>5.0</td>\n",
       "      <td>7.0</td>\n",
       "    </tr>\n",
       "    <tr>\n",
       "      <th>2016-04-01</th>\n",
       "      <td>67</td>\n",
       "      <td>4.0</td>\n",
       "      <td>-1.0</td>\n",
       "    </tr>\n",
       "    <tr>\n",
       "      <th>2016-05-01</th>\n",
       "      <td>67</td>\n",
       "      <td>0.0</td>\n",
       "      <td>-4.0</td>\n",
       "    </tr>\n",
       "    <tr>\n",
       "      <th>...</th>\n",
       "      <td>...</td>\n",
       "      <td>...</td>\n",
       "      <td>...</td>\n",
       "    </tr>\n",
       "    <tr>\n",
       "      <th>2022-08-01</th>\n",
       "      <td>93</td>\n",
       "      <td>-4.0</td>\n",
       "      <td>-1.0</td>\n",
       "    </tr>\n",
       "    <tr>\n",
       "      <th>2022-09-01</th>\n",
       "      <td>90</td>\n",
       "      <td>-3.0</td>\n",
       "      <td>1.0</td>\n",
       "    </tr>\n",
       "    <tr>\n",
       "      <th>2022-10-01</th>\n",
       "      <td>90</td>\n",
       "      <td>0.0</td>\n",
       "      <td>3.0</td>\n",
       "    </tr>\n",
       "    <tr>\n",
       "      <th>2022-11-01</th>\n",
       "      <td>90</td>\n",
       "      <td>0.0</td>\n",
       "      <td>0.0</td>\n",
       "    </tr>\n",
       "    <tr>\n",
       "      <th>2022-12-01</th>\n",
       "      <td>90</td>\n",
       "      <td>0.0</td>\n",
       "      <td>0.0</td>\n",
       "    </tr>\n",
       "  </tbody>\n",
       "</table>\n",
       "<p>84 rows × 3 columns</p>\n",
       "</div>"
      ],
      "text/plain": [
       "            Domestic Market (Contract) Blow Molding, Low  First Difference  \\\n",
       "Date                                                                         \n",
       "2016-01-01                                            60              -3.0   \n",
       "2016-02-01                                            58              -2.0   \n",
       "2016-03-01                                            63               5.0   \n",
       "2016-04-01                                            67               4.0   \n",
       "2016-05-01                                            67               0.0   \n",
       "...                                                  ...               ...   \n",
       "2022-08-01                                            93              -4.0   \n",
       "2022-09-01                                            90              -3.0   \n",
       "2022-10-01                                            90               0.0   \n",
       "2022-11-01                                            90               0.0   \n",
       "2022-12-01                                            90               0.0   \n",
       "\n",
       "            Second Difference  \n",
       "Date                           \n",
       "2016-01-01               -3.0  \n",
       "2016-02-01                1.0  \n",
       "2016-03-01                7.0  \n",
       "2016-04-01               -1.0  \n",
       "2016-05-01               -4.0  \n",
       "...                       ...  \n",
       "2022-08-01               -1.0  \n",
       "2022-09-01                1.0  \n",
       "2022-10-01                3.0  \n",
       "2022-11-01                0.0  \n",
       "2022-12-01                0.0  \n",
       "\n",
       "[84 rows x 3 columns]"
      ]
     },
     "execution_count": 42,
     "metadata": {},
     "output_type": "execute_result"
    }
   ],
   "source": [
    "test_data"
   ]
  },
  {
   "cell_type": "code",
   "execution_count": 43,
   "id": "b5d9500a",
   "metadata": {},
   "outputs": [
    {
     "name": "stdout",
     "output_type": "stream",
     "text": [
      "2016-01-01 00:00:00\n",
      "2022-12-01 00:00:00\n"
     ]
    }
   ],
   "source": [
    "##prediction\n",
    "pred_start_date=test_data.index[0]\n",
    "pred_end_date=test_data.index[-1]\n",
    "print(pred_start_date)\n",
    "print(pred_end_date)"
   ]
  },
  {
   "cell_type": "code",
   "execution_count": 44,
   "id": "af85770a",
   "metadata": {},
   "outputs": [],
   "source": [
    "pred= model_Arima_fit.predict(start=pred_start_date,end=pred_end_date)\n",
    "residuals= test_data['Domestic Market (Contract) Blow Molding, Low']-pred"
   ]
  },
  {
   "cell_type": "code",
   "execution_count": 45,
   "id": "dcc86333",
   "metadata": {},
   "outputs": [
    {
     "data": {
      "text/plain": [
       "2016-01-01    63.0\n",
       "2016-02-01    63.0\n",
       "2016-03-01    63.0\n",
       "2016-04-01    63.0\n",
       "2016-05-01    63.0\n",
       "              ... \n",
       "2022-08-01    63.0\n",
       "2022-09-01    63.0\n",
       "2022-10-01    63.0\n",
       "2022-11-01    63.0\n",
       "2022-12-01    63.0\n",
       "Freq: MS, Name: predicted_mean, Length: 84, dtype: float64"
      ]
     },
     "execution_count": 45,
     "metadata": {},
     "output_type": "execute_result"
    }
   ],
   "source": [
    "pred"
   ]
  },
  {
   "cell_type": "code",
   "execution_count": 46,
   "id": "b8e02e5f",
   "metadata": {},
   "outputs": [
    {
     "data": {
      "text/plain": [
       "Date\n",
       "2016-01-01   -3.000000e+00\n",
       "2016-02-01   -5.000000e+00\n",
       "2016-03-01    7.105427e-15\n",
       "2016-04-01    4.000000e+00\n",
       "2016-05-01    4.000000e+00\n",
       "                  ...     \n",
       "2022-08-01    3.000000e+01\n",
       "2022-09-01    2.700000e+01\n",
       "2022-10-01    2.700000e+01\n",
       "2022-11-01    2.700000e+01\n",
       "2022-12-01    2.700000e+01\n",
       "Length: 84, dtype: float64"
      ]
     },
     "execution_count": 46,
     "metadata": {},
     "output_type": "execute_result"
    }
   ],
   "source": [
    "residuals"
   ]
  },
  {
   "cell_type": "code",
   "execution_count": 47,
   "id": "176610c7",
   "metadata": {},
   "outputs": [
    {
     "data": {
      "text/plain": [
       "<AxesSubplot:ylabel='Density'>"
      ]
     },
     "execution_count": 47,
     "metadata": {},
     "output_type": "execute_result"
    },
    {
     "data": {
      "image/png": "[encoded data removed]",
      "text/plain": [
       "<Figure size 432x288 with 1 Axes>"
      ]
     },
     "metadata": {
      "needs_background": "light"
     },
     "output_type": "display_data"
    }
   ],
   "source": [
    "model_Arima_fit.resid.plot(kind='kde')"
   ]
  },
  {
   "cell_type": "code",
   "execution_count": 48,
   "id": "def76cf5",
   "metadata": {},
   "outputs": [],
   "source": [
    "test_data['Predicted_ARIMA']=pred"
   ]
  },
  {
   "cell_type": "code",
   "execution_count": 49,
   "id": "084bae26",
   "metadata": {},
   "outputs": [
    {
     "data": {
      "text/plain": [
       "<AxesSubplot:xlabel='Date'>"
      ]
     },
     "execution_count": 49,
     "metadata": {},
     "output_type": "execute_result"
    },
    {
     "data": {
      "image/png": "[encoded data removed]",
      "text/plain": [
       "<Figure size 432x288 with 1 Axes>"
      ]
     },
     "metadata": {
      "needs_background": "light"
     },
     "output_type": "display_data"
    }
   ],
   "source": [
    "test_data[['Domestic Market (Contract) Blow Molding, Low','Predicted_ARIMA']].plot()"
   ]
  }
 ],
 "metadata": {
  "kernelspec": {
   "display_name": "Python 3 (ipykernel)",
   "language": "python",
   "name": "python3"
  },
  "language_info": {
   "codemirror_mode": {
    "name": "ipython",
    "version": 3
   },
   "file_extension": ".py",
   "mimetype": "text/x-python",
   "name": "python",
   "nbconvert_exporter": "python",
   "pygments_lexer": "ipython3",
   "version": "3.9.12"
  }
 },
 "nbformat": 4,
 "nbformat_minor": 5
}

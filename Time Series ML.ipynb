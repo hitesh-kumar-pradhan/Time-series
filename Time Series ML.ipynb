{
 "cells": [
  {
   "cell_type": "code",
   "execution_count": 1,
   "id": "8df66381",
   "metadata": {},
   "outputs": [],
   "source": [
    "import pandas as pd  # for data wrangling purpose\n",
    "import numpy as np   # Basic computation library\n",
    "import seaborn as sns # For Visualization\n",
    "import matplotlib.pyplot as plt  # ploting package\n",
    "%matplotlib inline\n",
    "import warnings  # Filtering warnings\n",
    "warnings.filterwarnings('ignore')"
   ]
  },
  {
   "cell_type": "code",
   "execution_count": 2,
   "id": "b93811cd",
   "metadata": {},
   "outputs": [],
   "source": [
    "# Importing Random Price dataset csv file using pandas\n",
    "df = pd.read_csv('Random Price Dataset.csv')"
   ]
  },
  {
   "cell_type": "code",
   "execution_count": 3,
   "id": "1297af2c",
   "metadata": {},
   "outputs": [
    {
     "data": {
      "text/html": [
       "<div>\n",
       "<style scoped>\n",
       "    .dataframe tbody tr th:only-of-type {\n",
       "        vertical-align: middle;\n",
       "    }\n",
       "\n",
       "    .dataframe tbody tr th {\n",
       "        vertical-align: top;\n",
       "    }\n",
       "\n",
       "    .dataframe thead th {\n",
       "        text-align: right;\n",
       "    }\n",
       "</style>\n",
       "<table border=\"1\" class=\"dataframe\">\n",
       "  <thead>\n",
       "    <tr style=\"text-align: right;\">\n",
       "      <th></th>\n",
       "      <th>Date</th>\n",
       "      <th>Domestic Market (Contract) Blow Molding, Low</th>\n",
       "      <th>Spot/Export Blow Molding</th>\n",
       "      <th>Spot, Domestic</th>\n",
       "      <th>WTISPLC</th>\n",
       "      <th>MCOILBRENTEU</th>\n",
       "      <th>GASREGM</th>\n",
       "      <th>IMPCH</th>\n",
       "      <th>EXPCH</th>\n",
       "      <th>PRUBBUSDM</th>\n",
       "      <th>...</th>\n",
       "      <th>Russia_import</th>\n",
       "      <th>South_Africa_import</th>\n",
       "      <th>Turkey_import</th>\n",
       "      <th>Brazil_import</th>\n",
       "      <th>France_import</th>\n",
       "      <th>Germeny_import</th>\n",
       "      <th>United Kingdome_import</th>\n",
       "      <th>China_import</th>\n",
       "      <th>Japan_import</th>\n",
       "      <th>South_korea_import</th>\n",
       "    </tr>\n",
       "  </thead>\n",
       "  <tbody>\n",
       "    <tr>\n",
       "      <th>0</th>\n",
       "      <td>01/01/2000</td>\n",
       "      <td>41</td>\n",
       "      <td>NaN</td>\n",
       "      <td>NaN</td>\n",
       "      <td>27.18</td>\n",
       "      <td>25.51</td>\n",
       "      <td>1.289</td>\n",
       "      <td>6902.1</td>\n",
       "      <td>863.1</td>\n",
       "      <td>29.207387</td>\n",
       "      <td>...</td>\n",
       "      <td>NaN</td>\n",
       "      <td>NaN</td>\n",
       "      <td>6,833,222.00</td>\n",
       "      <td>2,649,293.00</td>\n",
       "      <td>35,239,920.00</td>\n",
       "      <td>NaN</td>\n",
       "      <td>NaN</td>\n",
       "      <td>NaN</td>\n",
       "      <td>NaN</td>\n",
       "      <td>NaN</td>\n",
       "    </tr>\n",
       "    <tr>\n",
       "      <th>1</th>\n",
       "      <td>01/02/2000</td>\n",
       "      <td>41</td>\n",
       "      <td>NaN</td>\n",
       "      <td>NaN</td>\n",
       "      <td>29.35</td>\n",
       "      <td>27.78</td>\n",
       "      <td>1.377</td>\n",
       "      <td>6584.4</td>\n",
       "      <td>972.7</td>\n",
       "      <td>33.391099</td>\n",
       "      <td>...</td>\n",
       "      <td>NaN</td>\n",
       "      <td>NaN</td>\n",
       "      <td>5,647,987.00</td>\n",
       "      <td>2,787,667.00</td>\n",
       "      <td>36,716,752.00</td>\n",
       "      <td>NaN</td>\n",
       "      <td>NaN</td>\n",
       "      <td>NaN</td>\n",
       "      <td>NaN</td>\n",
       "      <td>NaN</td>\n",
       "    </tr>\n",
       "    <tr>\n",
       "      <th>2</th>\n",
       "      <td>01/03/2000</td>\n",
       "      <td>45</td>\n",
       "      <td>NaN</td>\n",
       "      <td>NaN</td>\n",
       "      <td>29.89</td>\n",
       "      <td>27.49</td>\n",
       "      <td>1.516</td>\n",
       "      <td>6424.1</td>\n",
       "      <td>1330.5</td>\n",
       "      <td>30.941913</td>\n",
       "      <td>...</td>\n",
       "      <td>NaN</td>\n",
       "      <td>NaN</td>\n",
       "      <td>6,721,125.00</td>\n",
       "      <td>4,692,701.00</td>\n",
       "      <td>45,144,561.00</td>\n",
       "      <td>NaN</td>\n",
       "      <td>NaN</td>\n",
       "      <td>NaN</td>\n",
       "      <td>NaN</td>\n",
       "      <td>NaN</td>\n",
       "    </tr>\n",
       "    <tr>\n",
       "      <th>3</th>\n",
       "      <td>01/04/2000</td>\n",
       "      <td>47</td>\n",
       "      <td>NaN</td>\n",
       "      <td>NaN</td>\n",
       "      <td>25.74</td>\n",
       "      <td>22.76</td>\n",
       "      <td>1.465</td>\n",
       "      <td>7070.5</td>\n",
       "      <td>1227.5</td>\n",
       "      <td>31.930148</td>\n",
       "      <td>...</td>\n",
       "      <td>NaN</td>\n",
       "      <td>NaN</td>\n",
       "      <td>7,169,182.00</td>\n",
       "      <td>2,565,068.00</td>\n",
       "      <td>32,240,349.00</td>\n",
       "      <td>NaN</td>\n",
       "      <td>NaN</td>\n",
       "      <td>NaN</td>\n",
       "      <td>NaN</td>\n",
       "      <td>NaN</td>\n",
       "    </tr>\n",
       "    <tr>\n",
       "      <th>4</th>\n",
       "      <td>01/05/2000</td>\n",
       "      <td>47</td>\n",
       "      <td>NaN</td>\n",
       "      <td>NaN</td>\n",
       "      <td>28.78</td>\n",
       "      <td>27.74</td>\n",
       "      <td>1.487</td>\n",
       "      <td>7850.2</td>\n",
       "      <td>1526.3</td>\n",
       "      <td>31.201702</td>\n",
       "      <td>...</td>\n",
       "      <td>NaN</td>\n",
       "      <td>NaN</td>\n",
       "      <td>10,466,333.00</td>\n",
       "      <td>4,671,325.00</td>\n",
       "      <td>29,351,633.00</td>\n",
       "      <td>NaN</td>\n",
       "      <td>NaN</td>\n",
       "      <td>NaN</td>\n",
       "      <td>NaN</td>\n",
       "      <td>NaN</td>\n",
       "    </tr>\n",
       "  </tbody>\n",
       "</table>\n",
       "<p>5 rows × 50 columns</p>\n",
       "</div>"
      ],
      "text/plain": [
       "         Date  Domestic Market (Contract) Blow Molding, Low  \\\n",
       "0  01/01/2000                                            41   \n",
       "1  01/02/2000                                            41   \n",
       "2  01/03/2000                                            45   \n",
       "3  01/04/2000                                            47   \n",
       "4  01/05/2000                                            47   \n",
       "\n",
       "   Spot/Export Blow Molding  Spot, Domestic  WTISPLC  MCOILBRENTEU  GASREGM  \\\n",
       "0                       NaN             NaN    27.18         25.51    1.289   \n",
       "1                       NaN             NaN    29.35         27.78    1.377   \n",
       "2                       NaN             NaN    29.89         27.49    1.516   \n",
       "3                       NaN             NaN    25.74         22.76    1.465   \n",
       "4                       NaN             NaN    28.78         27.74    1.487   \n",
       "\n",
       "    IMPCH   EXPCH  PRUBBUSDM  ...  Russia_import  South_Africa_import  \\\n",
       "0  6902.1   863.1  29.207387  ...            NaN                  NaN   \n",
       "1  6584.4   972.7  33.391099  ...            NaN                  NaN   \n",
       "2  6424.1  1330.5  30.941913  ...            NaN                  NaN   \n",
       "3  7070.5  1227.5  31.930148  ...            NaN                  NaN   \n",
       "4  7850.2  1526.3  31.201702  ...            NaN                  NaN   \n",
       "\n",
       "   Turkey_import  Brazil_import  France_import  Germeny_import  \\\n",
       "0   6,833,222.00   2,649,293.00  35,239,920.00             NaN   \n",
       "1   5,647,987.00   2,787,667.00  36,716,752.00             NaN   \n",
       "2   6,721,125.00   4,692,701.00  45,144,561.00             NaN   \n",
       "3   7,169,182.00   2,565,068.00  32,240,349.00             NaN   \n",
       "4  10,466,333.00   4,671,325.00  29,351,633.00             NaN   \n",
       "\n",
       "   United Kingdome_import  China_import  Japan_import  South_korea_import  \n",
       "0                     NaN           NaN           NaN                 NaN  \n",
       "1                     NaN           NaN           NaN                 NaN  \n",
       "2                     NaN           NaN           NaN                 NaN  \n",
       "3                     NaN           NaN           NaN                 NaN  \n",
       "4                     NaN           NaN           NaN                 NaN  \n",
       "\n",
       "[5 rows x 50 columns]"
      ]
     },
     "execution_count": 3,
     "metadata": {},
     "output_type": "execute_result"
    }
   ],
   "source": [
    "df.head()"
   ]
  },
  {
   "cell_type": "code",
   "execution_count": 4,
   "id": "790a3e39",
   "metadata": {},
   "outputs": [
    {
     "data": {
      "text/html": [
       "<div>\n",
       "<style scoped>\n",
       "    .dataframe tbody tr th:only-of-type {\n",
       "        vertical-align: middle;\n",
       "    }\n",
       "\n",
       "    .dataframe tbody tr th {\n",
       "        vertical-align: top;\n",
       "    }\n",
       "\n",
       "    .dataframe thead th {\n",
       "        text-align: right;\n",
       "    }\n",
       "</style>\n",
       "<table border=\"1\" class=\"dataframe\">\n",
       "  <thead>\n",
       "    <tr style=\"text-align: right;\">\n",
       "      <th></th>\n",
       "      <th>Date</th>\n",
       "      <th>Domestic Market (Contract) Blow Molding, Low</th>\n",
       "      <th>Spot/Export Blow Molding</th>\n",
       "      <th>Spot, Domestic</th>\n",
       "      <th>WTISPLC</th>\n",
       "      <th>MCOILBRENTEU</th>\n",
       "      <th>GASREGM</th>\n",
       "      <th>IMPCH</th>\n",
       "      <th>EXPCH</th>\n",
       "      <th>PRUBBUSDM</th>\n",
       "      <th>...</th>\n",
       "      <th>Russia_import</th>\n",
       "      <th>South_Africa_import</th>\n",
       "      <th>Turkey_import</th>\n",
       "      <th>Brazil_import</th>\n",
       "      <th>France_import</th>\n",
       "      <th>Germeny_import</th>\n",
       "      <th>United Kingdome_import</th>\n",
       "      <th>China_import</th>\n",
       "      <th>Japan_import</th>\n",
       "      <th>South_korea_import</th>\n",
       "    </tr>\n",
       "  </thead>\n",
       "  <tbody>\n",
       "    <tr>\n",
       "      <th>271</th>\n",
       "      <td>01/08/2022</td>\n",
       "      <td>93</td>\n",
       "      <td>NaN</td>\n",
       "      <td>NaN</td>\n",
       "      <td>93.67</td>\n",
       "      <td>100.45</td>\n",
       "      <td>3.975</td>\n",
       "      <td>50348.83658</td>\n",
       "      <td>12906.70000</td>\n",
       "      <td>73.304558</td>\n",
       "      <td>...</td>\n",
       "      <td>NaN</td>\n",
       "      <td>19,310,108.00</td>\n",
       "      <td>NaN</td>\n",
       "      <td>NaN</td>\n",
       "      <td>NaN</td>\n",
       "      <td>144,131,334.00</td>\n",
       "      <td>81,872,550.00</td>\n",
       "      <td>NaN</td>\n",
       "      <td>26,097,012.00</td>\n",
       "      <td>NaN</td>\n",
       "    </tr>\n",
       "    <tr>\n",
       "      <th>272</th>\n",
       "      <td>01/09/2022</td>\n",
       "      <td>90</td>\n",
       "      <td>NaN</td>\n",
       "      <td>NaN</td>\n",
       "      <td>84.26</td>\n",
       "      <td>89.76</td>\n",
       "      <td>3.700</td>\n",
       "      <td>49247.89150</td>\n",
       "      <td>11953.51058</td>\n",
       "      <td>66.956499</td>\n",
       "      <td>...</td>\n",
       "      <td>NaN</td>\n",
       "      <td>14,410,445.00</td>\n",
       "      <td>NaN</td>\n",
       "      <td>NaN</td>\n",
       "      <td>NaN</td>\n",
       "      <td>113,310,929.00</td>\n",
       "      <td>74,477,441.00</td>\n",
       "      <td>NaN</td>\n",
       "      <td>21,277,339.00</td>\n",
       "      <td>NaN</td>\n",
       "    </tr>\n",
       "    <tr>\n",
       "      <th>273</th>\n",
       "      <td>01/10/2022</td>\n",
       "      <td>90</td>\n",
       "      <td>NaN</td>\n",
       "      <td>NaN</td>\n",
       "      <td>87.55</td>\n",
       "      <td>93.33</td>\n",
       "      <td>3.815</td>\n",
       "      <td>44571.96712</td>\n",
       "      <td>15698.33965</td>\n",
       "      <td>68.535729</td>\n",
       "      <td>...</td>\n",
       "      <td>NaN</td>\n",
       "      <td>16,783,023.00</td>\n",
       "      <td>NaN</td>\n",
       "      <td>NaN</td>\n",
       "      <td>NaN</td>\n",
       "      <td>119,307,001.00</td>\n",
       "      <td>109,421,098.00</td>\n",
       "      <td>NaN</td>\n",
       "      <td>NaN</td>\n",
       "      <td>NaN</td>\n",
       "    </tr>\n",
       "    <tr>\n",
       "      <th>274</th>\n",
       "      <td>01/11/2022</td>\n",
       "      <td>90</td>\n",
       "      <td>NaN</td>\n",
       "      <td>NaN</td>\n",
       "      <td>84.37</td>\n",
       "      <td>91.42</td>\n",
       "      <td>3.685</td>\n",
       "      <td>36876.43705</td>\n",
       "      <td>15576.00600</td>\n",
       "      <td>65.265834</td>\n",
       "      <td>...</td>\n",
       "      <td>NaN</td>\n",
       "      <td>11,079,039.00</td>\n",
       "      <td>NaN</td>\n",
       "      <td>NaN</td>\n",
       "      <td>NaN</td>\n",
       "      <td>NaN</td>\n",
       "      <td>NaN</td>\n",
       "      <td>NaN</td>\n",
       "      <td>NaN</td>\n",
       "      <td>NaN</td>\n",
       "    </tr>\n",
       "    <tr>\n",
       "      <th>275</th>\n",
       "      <td>01/12/2022</td>\n",
       "      <td>90</td>\n",
       "      <td>NaN</td>\n",
       "      <td>NaN</td>\n",
       "      <td>76.44</td>\n",
       "      <td>80.92</td>\n",
       "      <td>3.210</td>\n",
       "      <td>NaN</td>\n",
       "      <td>NaN</td>\n",
       "      <td>NaN</td>\n",
       "      <td>...</td>\n",
       "      <td>NaN</td>\n",
       "      <td>NaN</td>\n",
       "      <td>NaN</td>\n",
       "      <td>NaN</td>\n",
       "      <td>NaN</td>\n",
       "      <td>NaN</td>\n",
       "      <td>NaN</td>\n",
       "      <td>NaN</td>\n",
       "      <td>NaN</td>\n",
       "      <td>NaN</td>\n",
       "    </tr>\n",
       "  </tbody>\n",
       "</table>\n",
       "<p>5 rows × 50 columns</p>\n",
       "</div>"
      ],
      "text/plain": [
       "           Date  Domestic Market (Contract) Blow Molding, Low  \\\n",
       "271  01/08/2022                                            93   \n",
       "272  01/09/2022                                            90   \n",
       "273  01/10/2022                                            90   \n",
       "274  01/11/2022                                            90   \n",
       "275  01/12/2022                                            90   \n",
       "\n",
       "     Spot/Export Blow Molding  Spot, Domestic  WTISPLC  MCOILBRENTEU  GASREGM  \\\n",
       "271                       NaN             NaN    93.67        100.45    3.975   \n",
       "272                       NaN             NaN    84.26         89.76    3.700   \n",
       "273                       NaN             NaN    87.55         93.33    3.815   \n",
       "274                       NaN             NaN    84.37         91.42    3.685   \n",
       "275                       NaN             NaN    76.44         80.92    3.210   \n",
       "\n",
       "           IMPCH        EXPCH  PRUBBUSDM  ...  Russia_import  \\\n",
       "271  50348.83658  12906.70000  73.304558  ...            NaN   \n",
       "272  49247.89150  11953.51058  66.956499  ...            NaN   \n",
       "273  44571.96712  15698.33965  68.535729  ...            NaN   \n",
       "274  36876.43705  15576.00600  65.265834  ...            NaN   \n",
       "275          NaN          NaN        NaN  ...            NaN   \n",
       "\n",
       "     South_Africa_import  Turkey_import  Brazil_import  France_import  \\\n",
       "271        19,310,108.00            NaN            NaN            NaN   \n",
       "272        14,410,445.00            NaN            NaN            NaN   \n",
       "273        16,783,023.00            NaN            NaN            NaN   \n",
       "274        11,079,039.00            NaN            NaN            NaN   \n",
       "275                  NaN            NaN            NaN            NaN   \n",
       "\n",
       "     Germeny_import  United Kingdome_import  China_import   Japan_import  \\\n",
       "271  144,131,334.00           81,872,550.00           NaN  26,097,012.00   \n",
       "272  113,310,929.00           74,477,441.00           NaN  21,277,339.00   \n",
       "273  119,307,001.00          109,421,098.00           NaN            NaN   \n",
       "274             NaN                     NaN           NaN            NaN   \n",
       "275             NaN                     NaN           NaN            NaN   \n",
       "\n",
       "     South_korea_import  \n",
       "271                 NaN  \n",
       "272                 NaN  \n",
       "273                 NaN  \n",
       "274                 NaN  \n",
       "275                 NaN  \n",
       "\n",
       "[5 rows x 50 columns]"
      ]
     },
     "execution_count": 4,
     "metadata": {},
     "output_type": "execute_result"
    }
   ],
   "source": [
    "df.tail()"
   ]
  },
  {
   "cell_type": "code",
   "execution_count": 5,
   "id": "19567f2c",
   "metadata": {},
   "outputs": [],
   "source": [
    "df1 = df[['Date','Domestic Market (Contract) Blow Molding, Low']]"
   ]
  },
  {
   "cell_type": "code",
   "execution_count": 6,
   "id": "d2c8eda4",
   "metadata": {},
   "outputs": [
    {
     "data": {
      "text/html": [
       "<div>\n",
       "<style scoped>\n",
       "    .dataframe tbody tr th:only-of-type {\n",
       "        vertical-align: middle;\n",
       "    }\n",
       "\n",
       "    .dataframe tbody tr th {\n",
       "        vertical-align: top;\n",
       "    }\n",
       "\n",
       "    .dataframe thead th {\n",
       "        text-align: right;\n",
       "    }\n",
       "</style>\n",
       "<table border=\"1\" class=\"dataframe\">\n",
       "  <thead>\n",
       "    <tr style=\"text-align: right;\">\n",
       "      <th></th>\n",
       "      <th>Date</th>\n",
       "      <th>Domestic Market (Contract) Blow Molding, Low</th>\n",
       "    </tr>\n",
       "  </thead>\n",
       "  <tbody>\n",
       "    <tr>\n",
       "      <th>0</th>\n",
       "      <td>01/01/2000</td>\n",
       "      <td>41</td>\n",
       "    </tr>\n",
       "    <tr>\n",
       "      <th>1</th>\n",
       "      <td>01/02/2000</td>\n",
       "      <td>41</td>\n",
       "    </tr>\n",
       "    <tr>\n",
       "      <th>2</th>\n",
       "      <td>01/03/2000</td>\n",
       "      <td>45</td>\n",
       "    </tr>\n",
       "    <tr>\n",
       "      <th>3</th>\n",
       "      <td>01/04/2000</td>\n",
       "      <td>47</td>\n",
       "    </tr>\n",
       "    <tr>\n",
       "      <th>4</th>\n",
       "      <td>01/05/2000</td>\n",
       "      <td>47</td>\n",
       "    </tr>\n",
       "  </tbody>\n",
       "</table>\n",
       "</div>"
      ],
      "text/plain": [
       "         Date  Domestic Market (Contract) Blow Molding, Low\n",
       "0  01/01/2000                                            41\n",
       "1  01/02/2000                                            41\n",
       "2  01/03/2000                                            45\n",
       "3  01/04/2000                                            47\n",
       "4  01/05/2000                                            47"
      ]
     },
     "execution_count": 6,
     "metadata": {},
     "output_type": "execute_result"
    }
   ],
   "source": [
    "df1.head()"
   ]
  },
  {
   "cell_type": "code",
   "execution_count": 7,
   "id": "a23eb31a",
   "metadata": {},
   "outputs": [
    {
     "name": "stdout",
     "output_type": "stream",
     "text": [
      "<class 'pandas.core.frame.DataFrame'>\n",
      "RangeIndex: 276 entries, 0 to 275\n",
      "Data columns (total 2 columns):\n",
      " #   Column                                        Non-Null Count  Dtype \n",
      "---  ------                                        --------------  ----- \n",
      " 0   Date                                          276 non-null    object\n",
      " 1   Domestic Market (Contract) Blow Molding, Low  276 non-null    int64 \n",
      "dtypes: int64(1), object(1)\n",
      "memory usage: 4.4+ KB\n"
     ]
    }
   ],
   "source": [
    "df1.info()"
   ]
  },
  {
   "cell_type": "code",
   "execution_count": 8,
   "id": "4bb29f49",
   "metadata": {},
   "outputs": [
    {
     "data": {
      "text/plain": [
       "Date                                            0\n",
       "Domestic Market (Contract) Blow Molding, Low    0\n",
       "dtype: int64"
      ]
     },
     "execution_count": 8,
     "metadata": {},
     "output_type": "execute_result"
    }
   ],
   "source": [
    "df1.isnull().sum()"
   ]
  },
  {
   "cell_type": "code",
   "execution_count": 9,
   "id": "c14e5f4b",
   "metadata": {},
   "outputs": [],
   "source": [
    "df1['Date'] = pd.to_datetime(df1['Date'], format='%d/%m/%Y')"
   ]
  },
  {
   "cell_type": "code",
   "execution_count": 10,
   "id": "39ed8f50",
   "metadata": {},
   "outputs": [],
   "source": [
    "df1['Date'] = df1['Date'].dt.strftime('%Y-%m-%d')"
   ]
  },
  {
   "cell_type": "code",
   "execution_count": 11,
   "id": "357bcd13",
   "metadata": {},
   "outputs": [
    {
     "name": "stdout",
     "output_type": "stream",
     "text": [
      "<class 'pandas.core.frame.DataFrame'>\n",
      "RangeIndex: 276 entries, 0 to 275\n",
      "Data columns (total 2 columns):\n",
      " #   Column                                        Non-Null Count  Dtype \n",
      "---  ------                                        --------------  ----- \n",
      " 0   Date                                          276 non-null    object\n",
      " 1   Domestic Market (Contract) Blow Molding, Low  276 non-null    int64 \n",
      "dtypes: int64(1), object(1)\n",
      "memory usage: 4.4+ KB\n"
     ]
    }
   ],
   "source": [
    "df1.info()"
   ]
  },
  {
   "cell_type": "code",
   "execution_count": 12,
   "id": "09b4674e",
   "metadata": {},
   "outputs": [
    {
     "data": {
      "text/html": [
       "<div>\n",
       "<style scoped>\n",
       "    .dataframe tbody tr th:only-of-type {\n",
       "        vertical-align: middle;\n",
       "    }\n",
       "\n",
       "    .dataframe tbody tr th {\n",
       "        vertical-align: top;\n",
       "    }\n",
       "\n",
       "    .dataframe thead th {\n",
       "        text-align: right;\n",
       "    }\n",
       "</style>\n",
       "<table border=\"1\" class=\"dataframe\">\n",
       "  <thead>\n",
       "    <tr style=\"text-align: right;\">\n",
       "      <th></th>\n",
       "      <th>Date</th>\n",
       "      <th>Domestic Market (Contract) Blow Molding, Low</th>\n",
       "    </tr>\n",
       "  </thead>\n",
       "  <tbody>\n",
       "    <tr>\n",
       "      <th>0</th>\n",
       "      <td>2000-01-01</td>\n",
       "      <td>41</td>\n",
       "    </tr>\n",
       "    <tr>\n",
       "      <th>1</th>\n",
       "      <td>2000-02-01</td>\n",
       "      <td>41</td>\n",
       "    </tr>\n",
       "    <tr>\n",
       "      <th>2</th>\n",
       "      <td>2000-03-01</td>\n",
       "      <td>45</td>\n",
       "    </tr>\n",
       "    <tr>\n",
       "      <th>3</th>\n",
       "      <td>2000-04-01</td>\n",
       "      <td>47</td>\n",
       "    </tr>\n",
       "    <tr>\n",
       "      <th>4</th>\n",
       "      <td>2000-05-01</td>\n",
       "      <td>47</td>\n",
       "    </tr>\n",
       "  </tbody>\n",
       "</table>\n",
       "</div>"
      ],
      "text/plain": [
       "         Date  Domestic Market (Contract) Blow Molding, Low\n",
       "0  2000-01-01                                            41\n",
       "1  2000-02-01                                            41\n",
       "2  2000-03-01                                            45\n",
       "3  2000-04-01                                            47\n",
       "4  2000-05-01                                            47"
      ]
     },
     "execution_count": 12,
     "metadata": {},
     "output_type": "execute_result"
    }
   ],
   "source": [
    "df1.head()"
   ]
  },
  {
   "cell_type": "code",
   "execution_count": 13,
   "id": "cd0d6017",
   "metadata": {},
   "outputs": [
    {
     "name": "stdout",
     "output_type": "stream",
     "text": [
      "<class 'pandas.core.frame.DataFrame'>\n",
      "RangeIndex: 276 entries, 0 to 275\n",
      "Data columns (total 2 columns):\n",
      " #   Column                                        Non-Null Count  Dtype \n",
      "---  ------                                        --------------  ----- \n",
      " 0   Date                                          276 non-null    object\n",
      " 1   Domestic Market (Contract) Blow Molding, Low  276 non-null    int64 \n",
      "dtypes: int64(1), object(1)\n",
      "memory usage: 4.4+ KB\n"
     ]
    }
   ],
   "source": [
    "df1.info()"
   ]
  },
  {
   "cell_type": "code",
   "execution_count": 14,
   "id": "12e62e85",
   "metadata": {},
   "outputs": [],
   "source": [
    "df1['Date'] = pd.to_datetime(df1['Date'])"
   ]
  },
  {
   "cell_type": "code",
   "execution_count": 15,
   "id": "bb3b859a",
   "metadata": {},
   "outputs": [
    {
     "name": "stdout",
     "output_type": "stream",
     "text": [
      "<class 'pandas.core.frame.DataFrame'>\n",
      "RangeIndex: 276 entries, 0 to 275\n",
      "Data columns (total 2 columns):\n",
      " #   Column                                        Non-Null Count  Dtype         \n",
      "---  ------                                        --------------  -----         \n",
      " 0   Date                                          276 non-null    datetime64[ns]\n",
      " 1   Domestic Market (Contract) Blow Molding, Low  276 non-null    int64         \n",
      "dtypes: datetime64[ns](1), int64(1)\n",
      "memory usage: 4.4 KB\n"
     ]
    }
   ],
   "source": [
    "df1.info()"
   ]
  },
  {
   "cell_type": "code",
   "execution_count": 16,
   "id": "6ce0d9f6",
   "metadata": {},
   "outputs": [],
   "source": [
    "df1.set_index('Date',inplace = True)"
   ]
  },
  {
   "cell_type": "code",
   "execution_count": 17,
   "id": "b6602bae",
   "metadata": {},
   "outputs": [
    {
     "data": {
      "text/html": [
       "<div>\n",
       "<style scoped>\n",
       "    .dataframe tbody tr th:only-of-type {\n",
       "        vertical-align: middle;\n",
       "    }\n",
       "\n",
       "    .dataframe tbody tr th {\n",
       "        vertical-align: top;\n",
       "    }\n",
       "\n",
       "    .dataframe thead th {\n",
       "        text-align: right;\n",
       "    }\n",
       "</style>\n",
       "<table border=\"1\" class=\"dataframe\">\n",
       "  <thead>\n",
       "    <tr style=\"text-align: right;\">\n",
       "      <th></th>\n",
       "      <th>Domestic Market (Contract) Blow Molding, Low</th>\n",
       "    </tr>\n",
       "    <tr>\n",
       "      <th>Date</th>\n",
       "      <th></th>\n",
       "    </tr>\n",
       "  </thead>\n",
       "  <tbody>\n",
       "    <tr>\n",
       "      <th>2000-01-01</th>\n",
       "      <td>41</td>\n",
       "    </tr>\n",
       "    <tr>\n",
       "      <th>2000-02-01</th>\n",
       "      <td>41</td>\n",
       "    </tr>\n",
       "    <tr>\n",
       "      <th>2000-03-01</th>\n",
       "      <td>45</td>\n",
       "    </tr>\n",
       "    <tr>\n",
       "      <th>2000-04-01</th>\n",
       "      <td>47</td>\n",
       "    </tr>\n",
       "    <tr>\n",
       "      <th>2000-05-01</th>\n",
       "      <td>47</td>\n",
       "    </tr>\n",
       "  </tbody>\n",
       "</table>\n",
       "</div>"
      ],
      "text/plain": [
       "            Domestic Market (Contract) Blow Molding, Low\n",
       "Date                                                    \n",
       "2000-01-01                                            41\n",
       "2000-02-01                                            41\n",
       "2000-03-01                                            45\n",
       "2000-04-01                                            47\n",
       "2000-05-01                                            47"
      ]
     },
     "execution_count": 17,
     "metadata": {},
     "output_type": "execute_result"
    }
   ],
   "source": [
    "df1.head()"
   ]
  },
  {
   "cell_type": "code",
   "execution_count": 18,
   "id": "edeab251",
   "metadata": {},
   "outputs": [
    {
     "data": {
      "text/plain": [
       "<AxesSubplot:xlabel='Date'>"
      ]
     },
     "execution_count": 18,
     "metadata": {},
     "output_type": "execute_result"
    },
    {
     "data": {
      "image/png": "[encoded data removed]",
      "text/plain": [
       "<Figure size 864x576 with 1 Axes>"
      ]
     },
     "metadata": {
      "needs_background": "light"
     },
     "output_type": "display_data"
    }
   ],
   "source": [
    "df1.plot(figsize=(12,8))"
   ]
  },
  {
   "cell_type": "code",
   "execution_count": 19,
   "id": "f5d1acba",
   "metadata": {},
   "outputs": [
    {
     "data": {
      "text/html": [
       "<div>\n",
       "<style scoped>\n",
       "    .dataframe tbody tr th:only-of-type {\n",
       "        vertical-align: middle;\n",
       "    }\n",
       "\n",
       "    .dataframe tbody tr th {\n",
       "        vertical-align: top;\n",
       "    }\n",
       "\n",
       "    .dataframe thead th {\n",
       "        text-align: right;\n",
       "    }\n",
       "</style>\n",
       "<table border=\"1\" class=\"dataframe\">\n",
       "  <thead>\n",
       "    <tr style=\"text-align: right;\">\n",
       "      <th></th>\n",
       "      <th>Domestic Market (Contract) Blow Molding, Low</th>\n",
       "      <th>Price_LastMonth</th>\n",
       "      <th>Price_2Monthsback</th>\n",
       "      <th>Price_3Monthsback</th>\n",
       "    </tr>\n",
       "    <tr>\n",
       "      <th>Date</th>\n",
       "      <th></th>\n",
       "      <th></th>\n",
       "      <th></th>\n",
       "      <th></th>\n",
       "    </tr>\n",
       "  </thead>\n",
       "  <tbody>\n",
       "    <tr>\n",
       "      <th>2000-01-01</th>\n",
       "      <td>41</td>\n",
       "      <td>NaN</td>\n",
       "      <td>NaN</td>\n",
       "      <td>NaN</td>\n",
       "    </tr>\n",
       "    <tr>\n",
       "      <th>2000-02-01</th>\n",
       "      <td>41</td>\n",
       "      <td>41.0</td>\n",
       "      <td>NaN</td>\n",
       "      <td>NaN</td>\n",
       "    </tr>\n",
       "    <tr>\n",
       "      <th>2000-03-01</th>\n",
       "      <td>45</td>\n",
       "      <td>41.0</td>\n",
       "      <td>41.0</td>\n",
       "      <td>NaN</td>\n",
       "    </tr>\n",
       "    <tr>\n",
       "      <th>2000-04-01</th>\n",
       "      <td>47</td>\n",
       "      <td>45.0</td>\n",
       "      <td>41.0</td>\n",
       "      <td>41.0</td>\n",
       "    </tr>\n",
       "    <tr>\n",
       "      <th>2000-05-01</th>\n",
       "      <td>47</td>\n",
       "      <td>47.0</td>\n",
       "      <td>45.0</td>\n",
       "      <td>41.0</td>\n",
       "    </tr>\n",
       "    <tr>\n",
       "      <th>...</th>\n",
       "      <td>...</td>\n",
       "      <td>...</td>\n",
       "      <td>...</td>\n",
       "      <td>...</td>\n",
       "    </tr>\n",
       "    <tr>\n",
       "      <th>2022-08-01</th>\n",
       "      <td>93</td>\n",
       "      <td>97.0</td>\n",
       "      <td>100.0</td>\n",
       "      <td>100.0</td>\n",
       "    </tr>\n",
       "    <tr>\n",
       "      <th>2022-09-01</th>\n",
       "      <td>90</td>\n",
       "      <td>93.0</td>\n",
       "      <td>97.0</td>\n",
       "      <td>100.0</td>\n",
       "    </tr>\n",
       "    <tr>\n",
       "      <th>2022-10-01</th>\n",
       "      <td>90</td>\n",
       "      <td>90.0</td>\n",
       "      <td>93.0</td>\n",
       "      <td>97.0</td>\n",
       "    </tr>\n",
       "    <tr>\n",
       "      <th>2022-11-01</th>\n",
       "      <td>90</td>\n",
       "      <td>90.0</td>\n",
       "      <td>90.0</td>\n",
       "      <td>93.0</td>\n",
       "    </tr>\n",
       "    <tr>\n",
       "      <th>2022-12-01</th>\n",
       "      <td>90</td>\n",
       "      <td>90.0</td>\n",
       "      <td>90.0</td>\n",
       "      <td>90.0</td>\n",
       "    </tr>\n",
       "  </tbody>\n",
       "</table>\n",
       "<p>276 rows × 4 columns</p>\n",
       "</div>"
      ],
      "text/plain": [
       "            Domestic Market (Contract) Blow Molding, Low  Price_LastMonth  \\\n",
       "Date                                                                        \n",
       "2000-01-01                                            41              NaN   \n",
       "2000-02-01                                            41             41.0   \n",
       "2000-03-01                                            45             41.0   \n",
       "2000-04-01                                            47             45.0   \n",
       "2000-05-01                                            47             47.0   \n",
       "...                                                  ...              ...   \n",
       "2022-08-01                                            93             97.0   \n",
       "2022-09-01                                            90             93.0   \n",
       "2022-10-01                                            90             90.0   \n",
       "2022-11-01                                            90             90.0   \n",
       "2022-12-01                                            90             90.0   \n",
       "\n",
       "            Price_2Monthsback  Price_3Monthsback  \n",
       "Date                                              \n",
       "2000-01-01                NaN                NaN  \n",
       "2000-02-01                NaN                NaN  \n",
       "2000-03-01               41.0                NaN  \n",
       "2000-04-01               41.0               41.0  \n",
       "2000-05-01               45.0               41.0  \n",
       "...                       ...                ...  \n",
       "2022-08-01              100.0              100.0  \n",
       "2022-09-01               97.0              100.0  \n",
       "2022-10-01               93.0               97.0  \n",
       "2022-11-01               90.0               93.0  \n",
       "2022-12-01               90.0               90.0  \n",
       "\n",
       "[276 rows x 4 columns]"
      ]
     },
     "execution_count": 19,
     "metadata": {},
     "output_type": "execute_result"
    }
   ],
   "source": [
    "df1['Price_LastMonth']=df1['Domestic Market (Contract) Blow Molding, Low'].shift(+1)\n",
    "df1['Price_2Monthsback']=df1['Domestic Market (Contract) Blow Molding, Low'].shift(+2)\n",
    "df1['Price_3Monthsback']=df1['Domestic Market (Contract) Blow Molding, Low'].shift(+3)\n",
    "df1\n",
    "     "
   ]
  },
  {
   "cell_type": "code",
   "execution_count": 20,
   "id": "5283b723",
   "metadata": {},
   "outputs": [
    {
     "data": {
      "text/html": [
       "<div>\n",
       "<style scoped>\n",
       "    .dataframe tbody tr th:only-of-type {\n",
       "        vertical-align: middle;\n",
       "    }\n",
       "\n",
       "    .dataframe tbody tr th {\n",
       "        vertical-align: top;\n",
       "    }\n",
       "\n",
       "    .dataframe thead th {\n",
       "        text-align: right;\n",
       "    }\n",
       "</style>\n",
       "<table border=\"1\" class=\"dataframe\">\n",
       "  <thead>\n",
       "    <tr style=\"text-align: right;\">\n",
       "      <th></th>\n",
       "      <th>Domestic Market (Contract) Blow Molding, Low</th>\n",
       "      <th>Price_LastMonth</th>\n",
       "      <th>Price_2Monthsback</th>\n",
       "      <th>Price_3Monthsback</th>\n",
       "    </tr>\n",
       "    <tr>\n",
       "      <th>Date</th>\n",
       "      <th></th>\n",
       "      <th></th>\n",
       "      <th></th>\n",
       "      <th></th>\n",
       "    </tr>\n",
       "  </thead>\n",
       "  <tbody>\n",
       "    <tr>\n",
       "      <th>2000-04-01</th>\n",
       "      <td>47</td>\n",
       "      <td>45.0</td>\n",
       "      <td>41.0</td>\n",
       "      <td>41.0</td>\n",
       "    </tr>\n",
       "    <tr>\n",
       "      <th>2000-05-01</th>\n",
       "      <td>47</td>\n",
       "      <td>47.0</td>\n",
       "      <td>45.0</td>\n",
       "      <td>41.0</td>\n",
       "    </tr>\n",
       "    <tr>\n",
       "      <th>2000-06-01</th>\n",
       "      <td>47</td>\n",
       "      <td>47.0</td>\n",
       "      <td>47.0</td>\n",
       "      <td>45.0</td>\n",
       "    </tr>\n",
       "    <tr>\n",
       "      <th>2000-07-01</th>\n",
       "      <td>47</td>\n",
       "      <td>47.0</td>\n",
       "      <td>47.0</td>\n",
       "      <td>47.0</td>\n",
       "    </tr>\n",
       "    <tr>\n",
       "      <th>2000-08-01</th>\n",
       "      <td>46</td>\n",
       "      <td>47.0</td>\n",
       "      <td>47.0</td>\n",
       "      <td>47.0</td>\n",
       "    </tr>\n",
       "    <tr>\n",
       "      <th>...</th>\n",
       "      <td>...</td>\n",
       "      <td>...</td>\n",
       "      <td>...</td>\n",
       "      <td>...</td>\n",
       "    </tr>\n",
       "    <tr>\n",
       "      <th>2022-08-01</th>\n",
       "      <td>93</td>\n",
       "      <td>97.0</td>\n",
       "      <td>100.0</td>\n",
       "      <td>100.0</td>\n",
       "    </tr>\n",
       "    <tr>\n",
       "      <th>2022-09-01</th>\n",
       "      <td>90</td>\n",
       "      <td>93.0</td>\n",
       "      <td>97.0</td>\n",
       "      <td>100.0</td>\n",
       "    </tr>\n",
       "    <tr>\n",
       "      <th>2022-10-01</th>\n",
       "      <td>90</td>\n",
       "      <td>90.0</td>\n",
       "      <td>93.0</td>\n",
       "      <td>97.0</td>\n",
       "    </tr>\n",
       "    <tr>\n",
       "      <th>2022-11-01</th>\n",
       "      <td>90</td>\n",
       "      <td>90.0</td>\n",
       "      <td>90.0</td>\n",
       "      <td>93.0</td>\n",
       "    </tr>\n",
       "    <tr>\n",
       "      <th>2022-12-01</th>\n",
       "      <td>90</td>\n",
       "      <td>90.0</td>\n",
       "      <td>90.0</td>\n",
       "      <td>90.0</td>\n",
       "    </tr>\n",
       "  </tbody>\n",
       "</table>\n",
       "<p>273 rows × 4 columns</p>\n",
       "</div>"
      ],
      "text/plain": [
       "            Domestic Market (Contract) Blow Molding, Low  Price_LastMonth  \\\n",
       "Date                                                                        \n",
       "2000-04-01                                            47             45.0   \n",
       "2000-05-01                                            47             47.0   \n",
       "2000-06-01                                            47             47.0   \n",
       "2000-07-01                                            47             47.0   \n",
       "2000-08-01                                            46             47.0   \n",
       "...                                                  ...              ...   \n",
       "2022-08-01                                            93             97.0   \n",
       "2022-09-01                                            90             93.0   \n",
       "2022-10-01                                            90             90.0   \n",
       "2022-11-01                                            90             90.0   \n",
       "2022-12-01                                            90             90.0   \n",
       "\n",
       "            Price_2Monthsback  Price_3Monthsback  \n",
       "Date                                              \n",
       "2000-04-01               41.0               41.0  \n",
       "2000-05-01               45.0               41.0  \n",
       "2000-06-01               47.0               45.0  \n",
       "2000-07-01               47.0               47.0  \n",
       "2000-08-01               47.0               47.0  \n",
       "...                       ...                ...  \n",
       "2022-08-01              100.0              100.0  \n",
       "2022-09-01               97.0              100.0  \n",
       "2022-10-01               93.0               97.0  \n",
       "2022-11-01               90.0               93.0  \n",
       "2022-12-01               90.0               90.0  \n",
       "\n",
       "[273 rows x 4 columns]"
      ]
     },
     "execution_count": 20,
     "metadata": {},
     "output_type": "execute_result"
    }
   ],
   "source": [
    "df1=df1.dropna()\n",
    "df1"
   ]
  },
  {
   "cell_type": "markdown",
   "id": "5e1a3c84",
   "metadata": {},
   "source": [
    "### Machine Learning Model Building"
   ]
  },
  {
   "cell_type": "code",
   "execution_count": 21,
   "id": "fb576a1c",
   "metadata": {},
   "outputs": [],
   "source": [
    "from sklearn.linear_model import LinearRegression\n",
    "from sklearn.linear_model import LogisticRegression\n",
    "from sklearn.ensemble import RandomForestRegressor\n",
    "from sklearn.metrics import mean_squared_error, mean_absolute_error\n",
    "from sklearn.metrics import r2_score\n",
    "from sklearn.model_selection import train_test_split"
   ]
  },
  {
   "cell_type": "code",
   "execution_count": 22,
   "id": "9cfe60d9",
   "metadata": {},
   "outputs": [],
   "source": [
    "lin_model=LinearRegression()\n",
    "logistic_model=LogisticRegression()\n",
    "from sklearn.ensemble import RandomForestRegressor\n",
    "model=RandomForestRegressor(n_estimators=100,max_features=3, random_state=1)"
   ]
  },
  {
   "cell_type": "code",
   "execution_count": 23,
   "id": "b11e94e3",
   "metadata": {},
   "outputs": [
    {
     "name": "stdout",
     "output_type": "stream",
     "text": [
      "[[ 45.  41.  41.]\n",
      " [ 47.  45.  41.]\n",
      " [ 47.  47.  45.]\n",
      " [ 47.  47.  47.]\n",
      " [ 47.  47.  47.]\n",
      " [ 46.  47.  47.]\n",
      " [ 45.  46.  47.]\n",
      " [ 43.  45.  46.]\n",
      " [ 42.  43.  45.]\n",
      " [ 41.  42.  43.]\n",
      " [ 41.  41.  42.]\n",
      " [ 46.  41.  41.]\n",
      " [ 49.  46.  41.]\n",
      " [ 49.  49.  46.]\n",
      " [ 46.  49.  49.]\n",
      " [ 44.  46.  49.]\n",
      " [ 41.  44.  46.]\n",
      " [ 38.  41.  44.]\n",
      " [ 37.  38.  41.]\n",
      " [ 36.  37.  38.]\n",
      " [ 35.  36.  37.]\n",
      " [ 34.  35.  36.]\n",
      " [ 33.  34.  35.]\n",
      " [ 32.  33.  34.]\n",
      " [ 35.  32.  33.]\n",
      " [ 37.  35.  32.]\n",
      " [ 37.  37.  35.]\n",
      " [ 40.  37.  37.]\n",
      " [ 42.  40.  37.]\n",
      " [ 42.  42.  40.]\n",
      " [ 42.  42.  42.]\n",
      " [ 42.  42.  42.]\n",
      " [ 41.  42.  42.]\n",
      " [ 40.  41.  42.]\n",
      " [ 42.  40.  41.]\n",
      " [ 45.  42.  40.]\n",
      " [ 51.  45.  42.]\n",
      " [ 51.  51.  45.]\n",
      " [ 49.  51.  51.]\n",
      " [ 47.  49.  51.]\n",
      " [ 46.  47.  49.]\n",
      " [ 46.  46.  47.]\n",
      " [ 49.  46.  46.]\n",
      " [ 50.  49.  46.]\n",
      " [ 50.  50.  49.]\n",
      " [ 50.  50.  50.]\n",
      " [ 50.  50.  50.]\n",
      " [ 52.  50.  50.]\n",
      " [ 53.  52.  50.]\n",
      " [ 51.  53.  52.]\n",
      " [ 54.  51.  53.]\n",
      " [ 50.  54.  51.]\n",
      " [ 50.  50.  54.]\n",
      " [ 54.  50.  50.]\n",
      " [ 54.  54.  50.]\n",
      " [ 59.  54.  54.]\n",
      " [ 65.  59.  54.]\n",
      " [ 65.  65.  59.]\n",
      " [ 65.  65.  65.]\n",
      " [ 65.  65.  65.]\n",
      " [ 65.  65.  65.]\n",
      " [ 63.  65.  65.]\n",
      " [ 59.  63.  65.]\n",
      " [ 55.  59.  63.]\n",
      " [ 55.  55.  59.]\n",
      " [ 61.  55.  55.]\n",
      " [ 71.  61.  55.]\n",
      " [ 79.  71.  61.]\n",
      " [ 87.  79.  71.]\n",
      " [ 83.  87.  79.]\n",
      " [ 79.  83.  87.]\n",
      " [ 75.  79.  83.]\n",
      " [ 71.  75.  79.]\n",
      " [ 67.  71.  75.]\n",
      " [ 70.  67.  71.]\n",
      " [ 73.  70.  67.]\n",
      " [ 73.  73.  70.]\n",
      " [ 78.  73.  73.]\n",
      " [ 76.  78.  73.]\n",
      " [ 70.  76.  78.]\n",
      " [ 64.  70.  76.]\n",
      " [ 61.  64.  70.]\n",
      " [ 61.  61.  64.]\n",
      " [ 64.  61.  61.]\n",
      " [ 67.  64.  61.]\n",
      " [ 67.  67.  64.]\n",
      " [ 71.  67.  67.]\n",
      " [ 71.  71.  67.]\n",
      " [ 76.  71.  71.]\n",
      " [ 76.  76.  71.]\n",
      " [ 76.  76.  76.]\n",
      " [ 80.  76.  76.]\n",
      " [ 85.  80.  76.]\n",
      " [ 85.  85.  80.]\n",
      " [ 85.  85.  85.]\n",
      " [ 85.  85.  85.]\n",
      " [ 85.  85.  85.]\n",
      " [ 88.  85.  85.]\n",
      " [ 91.  88.  85.]\n",
      " [ 96.  91.  88.]\n",
      " [103.  96.  91.]\n",
      " [103. 103.  96.]\n",
      " [ 96. 103. 103.]\n",
      " [ 85.  96. 103.]\n",
      " [ 65.  85.  96.]\n",
      " [ 55.  65.  85.]\n",
      " [ 55.  55.  65.]\n",
      " [ 62.  55.  55.]\n",
      " [ 62.  62.  55.]\n",
      " [ 62.  62.  62.]\n",
      " [ 65.  62.  62.]\n",
      " [ 68.  65.  62.]\n",
      " [ 68.  68.  65.]\n",
      " [ 68.  68.  68.]\n",
      " [ 72.  68.  68.]\n",
      " [ 72.  72.  68.]\n",
      " [ 72.  72.  72.]\n",
      " [ 72.  72.  72.]\n",
      " [ 76.  72.  72.]\n",
      " [ 84.  76.  72.]\n",
      " [ 90.  84.  76.]\n",
      " [ 90.  90.  84.]\n",
      " [ 84.  90.  90.]\n",
      " [ 78.  84.  90.]\n",
      " [ 76.  78.  84.]\n",
      " [ 76.  76.  78.]\n",
      " [ 81.  76.  76.]\n",
      " [ 81.  81.  76.]\n",
      " [ 85.  81.  81.]\n",
      " [ 85.  85.  81.]\n",
      " [ 85.  85.  85.]\n",
      " [ 88.  85.  85.]\n",
      " [ 90.  88.  85.]\n",
      " [ 96.  90.  88.]\n",
      " [ 96.  96.  90.]\n",
      " [ 93.  96.  96.]\n",
      " [ 89.  93.  96.]\n",
      " [ 89.  89.  93.]\n",
      " [ 89.  89.  89.]\n",
      " [ 84.  89.  89.]\n",
      " [ 84.  84.  89.]\n",
      " [ 89.  84.  84.]\n",
      " [ 89.  89.  84.]\n",
      " [ 92.  89.  89.]\n",
      " [ 95.  92.  89.]\n",
      " [ 95.  95.  92.]\n",
      " [ 88.  95.  95.]\n",
      " [ 81.  88.  95.]\n",
      " [ 81.  81.  88.]\n",
      " [ 86.  81.  81.]\n",
      " [ 86.  86.  81.]\n",
      " [ 86.  86.  86.]\n",
      " [ 84.  86.  86.]\n",
      " [ 84.  84.  86.]\n",
      " [ 89.  84.  84.]\n",
      " [ 93.  89.  84.]\n",
      " [ 93.  93.  89.]\n",
      " [ 93.  93.  93.]\n",
      " [ 93.  93.  93.]\n",
      " [ 95.  93.  93.]\n",
      " [ 95.  95.  93.]\n",
      " [ 95.  95.  95.]\n",
      " [100.  95.  95.]\n",
      " [100. 100.  95.]\n",
      " [100. 100. 100.]\n",
      " [100. 100. 100.]\n",
      " [100. 100. 100.]\n",
      " [104. 100. 100.]\n",
      " [104. 104. 100.]\n",
      " [104. 104. 104.]\n",
      " [104. 104. 104.]\n",
      " [104. 104. 104.]\n",
      " [104. 104. 104.]\n",
      " [104. 104. 104.]\n",
      " [107. 104. 104.]\n",
      " [107. 107. 104.]\n",
      " [104. 107. 107.]\n",
      " [100. 104. 107.]\n",
      " [ 72. 100. 104.]\n",
      " [ 67.  72. 100.]\n",
      " [ 67.  67.  72.]\n",
      " [ 67.  67.  67.]\n",
      " [ 72.  67.  67.]\n",
      " [ 72.  72.  67.]\n",
      " [ 72.  72.  72.]\n",
      " [ 67.  72.  72.]\n",
      " [ 63.  67.  72.]\n",
      " [ 63.  63.  67.]\n",
      " [ 63.  63.  63.]\n",
      " [ 63.  63.  63.]\n",
      " [ 60.  63.  63.]\n",
      " [ 58.  60.  63.]\n",
      " [ 63.  58.  60.]\n",
      " [ 67.  63.  58.]\n",
      " [ 67.  67.  63.]\n",
      " [ 67.  67.  67.]\n",
      " [ 67.  67.  67.]\n",
      " [ 67.  67.  67.]\n",
      " [ 72.  67.  67.]\n",
      " [ 72.  72.  67.]\n",
      " [ 69.  72.  72.]\n",
      " [ 67.  69.  72.]\n",
      " [ 67.  67.  69.]\n",
      " [ 72.  67.  67.]\n",
      " [ 75.  72.  67.]\n",
      " [ 75.  75.  72.]\n",
      " [ 72.  75.  75.]\n",
      " [ 72.  72.  75.]\n",
      " [ 72.  72.  72.]\n",
      " [ 75.  72.  72.]\n",
      " [ 77.  75.  72.]\n",
      " [ 81.  77.  75.]\n",
      " [ 82.  81.  77.]\n",
      " [ 82.  82.  81.]\n",
      " [ 79.  82.  82.]\n",
      " [ 83.  79.  82.]\n",
      " [ 83.  83.  79.]\n",
      " [ 83.  83.  83.]\n",
      " [ 83.  83.  83.]\n",
      " [ 83.  83.  83.]\n",
      " [ 83.  83.  83.]\n",
      " [ 83.  83.  83.]\n",
      " [ 86.  83.  83.]\n",
      " [ 86.  86.  83.]\n",
      " [ 83.  86.  86.]\n",
      " [ 80.  83.  86.]\n",
      " [ 80.  80.  83.]\n",
      " [ 80.  80.  80.]\n",
      " [ 80.  80.  80.]\n",
      " [ 83.  80.  80.]\n",
      " [ 83.  83.  80.]\n",
      " [ 83.  83.  83.]\n",
      " [ 80.  83.  83.]\n",
      " [ 77.  80.  83.]\n",
      " [ 80.  77.  80.]\n",
      " [ 80.  80.  77.]\n",
      " [ 77.  80.  80.]\n",
      " [ 77.  77.  80.]\n",
      " [ 47.  77.  77.]\n",
      " [ 47.  47.  77.]\n",
      " [ 47.  47.  47.]\n",
      " [ 43.  47.  47.]\n",
      " [ 43.  43.  47.]\n",
      " [ 47.  43.  43.]\n",
      " [ 52.  47.  43.]\n",
      " [ 57.  52.  47.]\n",
      " [ 62.  57.  52.]\n",
      " [ 62.  62.  57.]\n",
      " [ 62.  62.  62.]\n",
      " [ 67.  62.  62.]\n",
      " [ 72.  67.  62.]\n",
      " [ 79.  72.  67.]\n",
      " [ 86.  79.  72.]\n",
      " [ 93.  86.  79.]\n",
      " [ 98.  93.  86.]\n",
      " [103.  98.  93.]\n",
      " [108. 103.  98.]\n",
      " [108. 108. 103.]\n",
      " [108. 108. 108.]\n",
      " [103. 108. 108.]\n",
      " [ 98. 103. 108.]\n",
      " [ 93.  98. 103.]\n",
      " [ 93.  93.  98.]\n",
      " [ 93.  93.  93.]\n",
      " [ 97.  93.  93.]\n",
      " [ 97.  97.  93.]\n",
      " [100.  97.  97.]\n",
      " [100. 100.  97.]\n",
      " [ 97. 100. 100.]\n",
      " [ 93.  97. 100.]\n",
      " [ 90.  93.  97.]\n",
      " [ 90.  90.  93.]\n",
      " [ 90.  90.  90.]]\n"
     ]
    }
   ],
   "source": [
    "x1,x2,x3,y=df1['Price_LastMonth'],df1['Price_2Monthsback'],df1['Price_3Monthsback'],df1['Domestic Market (Contract) Blow Molding, Low']\n",
    "x1,x2,x3,y=np.array(x1),np.array(x2),np.array(x3),np.array(y)\n",
    "x1,x2,x3,y=x1.reshape(-1,1),x2.reshape(-1,1),x3.reshape(-1,1),y.reshape(-1,1)\n",
    "final_x=np.concatenate((x1,x2,x3),axis=1)\n",
    "print(final_x)"
   ]
  },
  {
   "cell_type": "code",
   "execution_count": 24,
   "id": "f48bf045",
   "metadata": {},
   "outputs": [],
   "source": [
    "X_train,X_test,y_train,y_test=final_x[:-60],final_x[-60:],y[:-60],y[-60:]"
   ]
  },
  {
   "cell_type": "code",
   "execution_count": 25,
   "id": "3288635c",
   "metadata": {},
   "outputs": [
    {
     "data": {
      "text/plain": [
       "LinearRegression()"
      ]
     },
     "execution_count": 25,
     "metadata": {},
     "output_type": "execute_result"
    }
   ],
   "source": [
    "model.fit(X_train,y_train)\n",
    "lin_model.fit(X_train,y_train)"
   ]
  },
  {
   "cell_type": "code",
   "execution_count": 26,
   "id": "01df41dc",
   "metadata": {},
   "outputs": [
    {
     "data": {
      "image/png": "[encoded data removed]",
      "text/plain": [
       "<Figure size 864x576 with 1 Axes>"
      ]
     },
     "metadata": {
      "needs_background": "light"
     },
     "output_type": "display_data"
    }
   ],
   "source": [
    "pred=model.predict(X_test)\n",
    "import matplotlib.pyplot as plt\n",
    "plt.rcParams[\"figure.figsize\"] = (12,8)\n",
    "plt.plot(pred,label='Random_Forest_Predictions')\n",
    "plt.plot(y_test,label='Actual Sales')\n",
    "plt.legend(loc=\"upper left\")\n",
    "plt.show()"
   ]
  },
  {
   "cell_type": "code",
   "execution_count": 27,
   "id": "22f9a232",
   "metadata": {},
   "outputs": [
    {
     "data": {
      "image/png": "[encoded data removed]",
      "text/plain": [
       "<Figure size 792x432 with 1 Axes>"
      ]
     },
     "metadata": {
      "needs_background": "light"
     },
     "output_type": "display_data"
    }
   ],
   "source": [
    "lin_pred=lin_model.predict(X_test)\n",
    "import matplotlib.pyplot as plt\n",
    "plt.rcParams[\"figure.figsize\"] = (11,6)\n",
    "plt.plot(lin_pred,label='Linear_Regression_Predictions')\n",
    "plt.plot(y_test,label='Actual Sales')\n",
    "plt.legend(loc=\"upper left\")\n",
    "plt.show()"
   ]
  },
  {
   "cell_type": "code",
   "execution_count": 28,
   "id": "fd757324",
   "metadata": {},
   "outputs": [],
   "source": [
    "from sklearn.metrics import mean_squared_error\n",
    "from math import sqrt\n",
    "rmse_rf=sqrt(mean_squared_error(pred,y_test))\n",
    "rmse_lr=sqrt(mean_squared_error(lin_pred,y_test))"
   ]
  },
  {
   "cell_type": "code",
   "execution_count": 29,
   "id": "e4574480",
   "metadata": {},
   "outputs": [
    {
     "name": "stdout",
     "output_type": "stream",
     "text": [
      "Mean Squared Error for Random Forest Model is: 5.7043479785765765\n",
      "Mean Squared Error for Linear Regression Model is: 5.12032350203116\n"
     ]
    }
   ],
   "source": [
    "print('Mean Squared Error for Random Forest Model is:',rmse_rf)\n",
    "print('Mean Squared Error for Linear Regression Model is:',rmse_lr)"
   ]
  },
  {
   "cell_type": "code",
   "execution_count": 30,
   "id": "8f5be261",
   "metadata": {},
   "outputs": [
    {
     "data": {
      "text/plain": [
       "LogisticRegression()"
      ]
     },
     "execution_count": 30,
     "metadata": {},
     "output_type": "execute_result"
    }
   ],
   "source": [
    "model.fit(X_train,y_train)\n",
    "logistic_model.fit(X_train,y_train)"
   ]
  },
  {
   "cell_type": "code",
   "execution_count": 31,
   "id": "18f915a4",
   "metadata": {},
   "outputs": [
    {
     "data": {
      "image/png": "[encoded data removed]",
      "text/plain": [
       "<Figure size 864x576 with 1 Axes>"
      ]
     },
     "metadata": {
      "needs_background": "light"
     },
     "output_type": "display_data"
    }
   ],
   "source": [
    "pred=model.predict(X_test)\n",
    "import matplotlib.pyplot as plt\n",
    "plt.rcParams[\"figure.figsize\"] = (12,8)\n",
    "plt.plot(pred,label='Random_Forest_Predictions')\n",
    "plt.plot(y_test,label='Actual Sales')\n",
    "plt.legend(loc=\"upper left\")\n",
    "plt.show()"
   ]
  },
  {
   "cell_type": "code",
   "execution_count": 32,
   "id": "fafff443",
   "metadata": {},
   "outputs": [
    {
     "data": {
      "image/png": "[encoded data removed]",
      "text/plain": [
       "<Figure size 792x432 with 1 Axes>"
      ]
     },
     "metadata": {
      "needs_background": "light"
     },
     "output_type": "display_data"
    }
   ],
   "source": [
    "logistic_pred=logistic_model.predict(X_test)\n",
    "import matplotlib.pyplot as plt\n",
    "plt.rcParams[\"figure.figsize\"] = (11,6)\n",
    "plt.plot(lin_pred,label='Logistic_Regression_Predictions')\n",
    "plt.plot(y_test,label='Actual Sales')\n",
    "plt.legend(loc=\"upper left\")\n",
    "plt.show()"
   ]
  },
  {
   "cell_type": "code",
   "execution_count": 33,
   "id": "4d2fd34d",
   "metadata": {},
   "outputs": [],
   "source": [
    "from sklearn.metrics import mean_squared_error\n",
    "from math import sqrt\n",
    "rmse_rf=sqrt(mean_squared_error(pred,y_test))\n",
    "rmse_log=sqrt(mean_squared_error(logistic_pred,y_test))"
   ]
  },
  {
   "cell_type": "code",
   "execution_count": 34,
   "id": "2ee730b7",
   "metadata": {},
   "outputs": [
    {
     "name": "stdout",
     "output_type": "stream",
     "text": [
      "Mean Squared Error for Random Forest Model is: 5.7043479785765765\n",
      "Mean Squared Error for Logistic Regression Model is: 18.21629307332678\n"
     ]
    }
   ],
   "source": [
    "print('Mean Squared Error for Random Forest Model is:',rmse_rf)\n",
    "print('Mean Squared Error for Logistic Regression Model is:',rmse_log)"
   ]
  },
  {
   "cell_type": "code",
   "execution_count": 35,
   "id": "b0d5b063",
   "metadata": {},
   "outputs": [],
   "source": [
    "from sklearn.naive_bayes import GaussianNB"
   ]
  },
  {
   "cell_type": "code",
   "execution_count": 36,
   "id": "4c33c8ba",
   "metadata": {},
   "outputs": [],
   "source": [
    "NBclassifier = GaussianNB()"
   ]
  },
  {
   "cell_type": "code",
   "execution_count": 37,
   "id": "c4504839",
   "metadata": {},
   "outputs": [
    {
     "data": {
      "text/plain": [
       "GaussianNB()"
      ]
     },
     "execution_count": 37,
     "metadata": {},
     "output_type": "execute_result"
    }
   ],
   "source": [
    "model.fit(X_train,y_train)\n",
    "NBclassifier.fit(X_train,y_train)"
   ]
  },
  {
   "cell_type": "code",
   "execution_count": 38,
   "id": "0bf8f3ae",
   "metadata": {},
   "outputs": [
    {
     "data": {
      "image/png": "[encoded data removed]",
      "text/plain": [
       "<Figure size 864x576 with 1 Axes>"
      ]
     },
     "metadata": {
      "needs_background": "light"
     },
     "output_type": "display_data"
    }
   ],
   "source": [
    "pred=model.predict(X_test)\n",
    "import matplotlib.pyplot as plt\n",
    "plt.rcParams[\"figure.figsize\"] = (12,8)\n",
    "plt.plot(pred,label='Random_Forest_Predictions')\n",
    "plt.plot(y_test,label='Actual Sales')\n",
    "plt.legend(loc=\"upper left\")\n",
    "plt.show()"
   ]
  },
  {
   "cell_type": "code",
   "execution_count": 39,
   "id": "b95e4329",
   "metadata": {},
   "outputs": [
    {
     "data": {
      "image/png": "[encoded data removed]",
      "text/plain": [
       "<Figure size 792x432 with 1 Axes>"
      ]
     },
     "metadata": {
      "needs_background": "light"
     },
     "output_type": "display_data"
    }
   ],
   "source": [
    "NB_pred=NBclassifier.predict(X_test)\n",
    "import matplotlib.pyplot as plt\n",
    "plt.rcParams[\"figure.figsize\"] = (11,6)\n",
    "plt.plot(lin_pred,label='Naive_bayes_Predictions')\n",
    "plt.plot(y_test,label='Actual Sales')\n",
    "plt.legend(loc=\"upper left\")\n",
    "plt.show()"
   ]
  },
  {
   "cell_type": "code",
   "execution_count": 40,
   "id": "f51919af",
   "metadata": {},
   "outputs": [],
   "source": [
    "from sklearn.metrics import mean_squared_error\n",
    "from math import sqrt\n",
    "rmse_rf=sqrt(mean_squared_error(pred,y_test))\n",
    "rmse_NB=sqrt(mean_squared_error(NB_pred,y_test))"
   ]
  },
  {
   "cell_type": "code",
   "execution_count": 41,
   "id": "19996108",
   "metadata": {},
   "outputs": [
    {
     "name": "stdout",
     "output_type": "stream",
     "text": [
      "Mean Squared Error for Random Forest Model is: 5.7043479785765765\n",
      "Mean Squared Error for Navie Bayes Model is: 7.00832837891224\n"
     ]
    }
   ],
   "source": [
    "print('Mean Squared Error for Random Forest Model is:',rmse_rf)\n",
    "print('Mean Squared Error for Navie Bayes Model is:',rmse_NB)"
   ]
  }
 ],
 "metadata": {
  "kernelspec": {
   "display_name": "Python 3 (ipykernel)",
   "language": "python",
   "name": "python3"
  },
  "language_info": {
   "codemirror_mode": {
    "name": "ipython",
    "version": 3
   },
   "file_extension": ".py",
   "mimetype": "text/x-python",
   "name": "python",
   "nbconvert_exporter": "python",
   "pygments_lexer": "ipython3",
   "version": "3.9.12"
  }
 },
 "nbformat": 4,
 "nbformat_minor": 5
}
